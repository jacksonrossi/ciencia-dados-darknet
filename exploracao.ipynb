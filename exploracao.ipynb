{
 "cells": [
  {
   "cell_type": "markdown",
   "metadata": {},
   "source": [
    "# Exploração de Dados\n",
    "1. Que tipo de dados você tem, majoritariamente (atributos numéricos, textuais)?\n",
    "2. Qual seu objetivo com esse dataset?\n",
    "3. Seu dataset é rotulado de que maneira?\n",
    "4. Como é a distribuição dos dados do dataset?\n",
    "5. Quais colunas/atributos você julga ser interessante manter e remover? Por quê?"
   ]
  },
  {
   "cell_type": "code",
   "execution_count": 3,
   "metadata": {},
   "outputs": [],
   "source": [
    "import numpy as np\n",
    "import pandas as pd\n",
    "import seaborn as sns\n",
    "import matplotlib.pyplot as plt"
   ]
  },
  {
   "cell_type": "code",
   "execution_count": 4,
   "metadata": {},
   "outputs": [],
   "source": [
    "df = pd.read_csv('dataset.csv')"
   ]
  },
  {
   "cell_type": "code",
   "execution_count": 39,
   "metadata": {
    "scrolled": true
   },
   "outputs": [
    {
     "data": {
      "text/plain": [
       "(141530, 85)"
      ]
     },
     "execution_count": 39,
     "metadata": {},
     "output_type": "execute_result"
    }
   ],
   "source": [
    "df.shape"
   ]
  },
  {
   "cell_type": "code",
   "execution_count": 40,
   "metadata": {},
   "outputs": [
    {
     "data": {
      "text/html": [
       "<div>\n",
       "<style scoped>\n",
       "    .dataframe tbody tr th:only-of-type {\n",
       "        vertical-align: middle;\n",
       "    }\n",
       "\n",
       "    .dataframe tbody tr th {\n",
       "        vertical-align: top;\n",
       "    }\n",
       "\n",
       "    .dataframe thead th {\n",
       "        text-align: right;\n",
       "    }\n",
       "</style>\n",
       "<table border=\"1\" class=\"dataframe\">\n",
       "  <thead>\n",
       "    <tr style=\"text-align: right;\">\n",
       "      <th></th>\n",
       "      <th>Flow ID</th>\n",
       "      <th>Src IP</th>\n",
       "      <th>Src Port</th>\n",
       "      <th>Dst IP</th>\n",
       "      <th>Dst Port</th>\n",
       "      <th>Protocol</th>\n",
       "      <th>Timestamp</th>\n",
       "      <th>Flow Duration</th>\n",
       "      <th>Total Fwd Packet</th>\n",
       "      <th>Total Bwd packets</th>\n",
       "      <th>Total Length of Fwd Packet</th>\n",
       "      <th>Total Length of Bwd Packet</th>\n",
       "      <th>Fwd Packet Length Max</th>\n",
       "      <th>Fwd Packet Length Min</th>\n",
       "      <th>Fwd Packet Length Mean</th>\n",
       "      <th>Fwd Packet Length Std</th>\n",
       "      <th>Bwd Packet Length Max</th>\n",
       "      <th>Bwd Packet Length Min</th>\n",
       "      <th>Bwd Packet Length Mean</th>\n",
       "      <th>Bwd Packet Length Std</th>\n",
       "      <th>Flow Bytes/s</th>\n",
       "      <th>Flow Packets/s</th>\n",
       "      <th>Flow IAT Mean</th>\n",
       "      <th>Flow IAT Std</th>\n",
       "      <th>Flow IAT Max</th>\n",
       "      <th>Flow IAT Min</th>\n",
       "      <th>Fwd IAT Total</th>\n",
       "      <th>Fwd IAT Mean</th>\n",
       "      <th>Fwd IAT Std</th>\n",
       "      <th>Fwd IAT Max</th>\n",
       "      <th>Fwd IAT Min</th>\n",
       "      <th>Bwd IAT Total</th>\n",
       "      <th>Bwd IAT Mean</th>\n",
       "      <th>Bwd IAT Std</th>\n",
       "      <th>Bwd IAT Max</th>\n",
       "      <th>Bwd IAT Min</th>\n",
       "      <th>Fwd PSH Flags</th>\n",
       "      <th>Bwd PSH Flags</th>\n",
       "      <th>Fwd URG Flags</th>\n",
       "      <th>Bwd URG Flags</th>\n",
       "      <th>Fwd Header Length</th>\n",
       "      <th>Bwd Header Length</th>\n",
       "      <th>Fwd Packets/s</th>\n",
       "      <th>Bwd Packets/s</th>\n",
       "      <th>Packet Length Min</th>\n",
       "      <th>Packet Length Max</th>\n",
       "      <th>Packet Length Mean</th>\n",
       "      <th>Packet Length Std</th>\n",
       "      <th>Packet Length Variance</th>\n",
       "      <th>FIN Flag Count</th>\n",
       "      <th>SYN Flag Count</th>\n",
       "      <th>RST Flag Count</th>\n",
       "      <th>PSH Flag Count</th>\n",
       "      <th>ACK Flag Count</th>\n",
       "      <th>URG Flag Count</th>\n",
       "      <th>CWE Flag Count</th>\n",
       "      <th>ECE Flag Count</th>\n",
       "      <th>Down/Up Ratio</th>\n",
       "      <th>Average Packet Size</th>\n",
       "      <th>Fwd Segment Size Avg</th>\n",
       "      <th>Bwd Segment Size Avg</th>\n",
       "      <th>Fwd Bytes/Bulk Avg</th>\n",
       "      <th>Fwd Packet/Bulk Avg</th>\n",
       "      <th>Fwd Bulk Rate Avg</th>\n",
       "      <th>Bwd Bytes/Bulk Avg</th>\n",
       "      <th>Bwd Packet/Bulk Avg</th>\n",
       "      <th>Bwd Bulk Rate Avg</th>\n",
       "      <th>Subflow Fwd Packets</th>\n",
       "      <th>Subflow Fwd Bytes</th>\n",
       "      <th>Subflow Bwd Packets</th>\n",
       "      <th>Subflow Bwd Bytes</th>\n",
       "      <th>FWD Init Win Bytes</th>\n",
       "      <th>Bwd Init Win Bytes</th>\n",
       "      <th>Fwd Act Data Pkts</th>\n",
       "      <th>Fwd Seg Size Min</th>\n",
       "      <th>Active Mean</th>\n",
       "      <th>Active Std</th>\n",
       "      <th>Active Max</th>\n",
       "      <th>Active Min</th>\n",
       "      <th>Idle Mean</th>\n",
       "      <th>Idle Std</th>\n",
       "      <th>Idle Max</th>\n",
       "      <th>Idle Min</th>\n",
       "      <th>Label</th>\n",
       "      <th>Label.1</th>\n",
       "    </tr>\n",
       "  </thead>\n",
       "  <tbody>\n",
       "    <tr>\n",
       "      <th>0</th>\n",
       "      <td>10.152.152.11-216.58.220.99-57158-443-6</td>\n",
       "      <td>10.152.152.11</td>\n",
       "      <td>57158</td>\n",
       "      <td>216.58.220.99</td>\n",
       "      <td>443</td>\n",
       "      <td>6</td>\n",
       "      <td>24/07/2015 04:09:48 PM</td>\n",
       "      <td>229</td>\n",
       "      <td>1</td>\n",
       "      <td>1</td>\n",
       "      <td>0</td>\n",
       "      <td>0</td>\n",
       "      <td>0</td>\n",
       "      <td>0</td>\n",
       "      <td>0.000000</td>\n",
       "      <td>0.000000</td>\n",
       "      <td>0</td>\n",
       "      <td>0</td>\n",
       "      <td>0.0000</td>\n",
       "      <td>0.000000</td>\n",
       "      <td>0.00000</td>\n",
       "      <td>8733.624454</td>\n",
       "      <td>229.00000</td>\n",
       "      <td>0.00000</td>\n",
       "      <td>229</td>\n",
       "      <td>229</td>\n",
       "      <td>0</td>\n",
       "      <td>0.00000</td>\n",
       "      <td>0.00000</td>\n",
       "      <td>0</td>\n",
       "      <td>0</td>\n",
       "      <td>0</td>\n",
       "      <td>0.00000</td>\n",
       "      <td>0.00000</td>\n",
       "      <td>0</td>\n",
       "      <td>0</td>\n",
       "      <td>0</td>\n",
       "      <td>0</td>\n",
       "      <td>0</td>\n",
       "      <td>0</td>\n",
       "      <td>20</td>\n",
       "      <td>20</td>\n",
       "      <td>4366.812227</td>\n",
       "      <td>4366.812227</td>\n",
       "      <td>0</td>\n",
       "      <td>0</td>\n",
       "      <td>0.000000</td>\n",
       "      <td>0.00000</td>\n",
       "      <td>0.000000</td>\n",
       "      <td>2</td>\n",
       "      <td>0</td>\n",
       "      <td>0</td>\n",
       "      <td>0</td>\n",
       "      <td>2</td>\n",
       "      <td>0</td>\n",
       "      <td>0</td>\n",
       "      <td>0</td>\n",
       "      <td>1</td>\n",
       "      <td>0.000000</td>\n",
       "      <td>0.000000</td>\n",
       "      <td>0.0000</td>\n",
       "      <td>0</td>\n",
       "      <td>0</td>\n",
       "      <td>0</td>\n",
       "      <td>0</td>\n",
       "      <td>0</td>\n",
       "      <td>0</td>\n",
       "      <td>0</td>\n",
       "      <td>0</td>\n",
       "      <td>0</td>\n",
       "      <td>0</td>\n",
       "      <td>1892</td>\n",
       "      <td>1047</td>\n",
       "      <td>0</td>\n",
       "      <td>20</td>\n",
       "      <td>0</td>\n",
       "      <td>0</td>\n",
       "      <td>0</td>\n",
       "      <td>0</td>\n",
       "      <td>0.000000e+00</td>\n",
       "      <td>0.000</td>\n",
       "      <td>0.000000e+00</td>\n",
       "      <td>0.000000e+00</td>\n",
       "      <td>Non-Tor</td>\n",
       "      <td>AUDIO-STREAMING</td>\n",
       "    </tr>\n",
       "    <tr>\n",
       "      <th>1</th>\n",
       "      <td>10.152.152.11-216.58.220.99-57159-443-6</td>\n",
       "      <td>10.152.152.11</td>\n",
       "      <td>57159</td>\n",
       "      <td>216.58.220.99</td>\n",
       "      <td>443</td>\n",
       "      <td>6</td>\n",
       "      <td>24/07/2015 04:09:48 PM</td>\n",
       "      <td>407</td>\n",
       "      <td>1</td>\n",
       "      <td>1</td>\n",
       "      <td>0</td>\n",
       "      <td>0</td>\n",
       "      <td>0</td>\n",
       "      <td>0</td>\n",
       "      <td>0.000000</td>\n",
       "      <td>0.000000</td>\n",
       "      <td>0</td>\n",
       "      <td>0</td>\n",
       "      <td>0.0000</td>\n",
       "      <td>0.000000</td>\n",
       "      <td>0.00000</td>\n",
       "      <td>4914.004914</td>\n",
       "      <td>407.00000</td>\n",
       "      <td>0.00000</td>\n",
       "      <td>407</td>\n",
       "      <td>407</td>\n",
       "      <td>0</td>\n",
       "      <td>0.00000</td>\n",
       "      <td>0.00000</td>\n",
       "      <td>0</td>\n",
       "      <td>0</td>\n",
       "      <td>0</td>\n",
       "      <td>0.00000</td>\n",
       "      <td>0.00000</td>\n",
       "      <td>0</td>\n",
       "      <td>0</td>\n",
       "      <td>0</td>\n",
       "      <td>0</td>\n",
       "      <td>0</td>\n",
       "      <td>0</td>\n",
       "      <td>20</td>\n",
       "      <td>20</td>\n",
       "      <td>2457.002457</td>\n",
       "      <td>2457.002457</td>\n",
       "      <td>0</td>\n",
       "      <td>0</td>\n",
       "      <td>0.000000</td>\n",
       "      <td>0.00000</td>\n",
       "      <td>0.000000</td>\n",
       "      <td>2</td>\n",
       "      <td>0</td>\n",
       "      <td>0</td>\n",
       "      <td>0</td>\n",
       "      <td>2</td>\n",
       "      <td>0</td>\n",
       "      <td>0</td>\n",
       "      <td>0</td>\n",
       "      <td>1</td>\n",
       "      <td>0.000000</td>\n",
       "      <td>0.000000</td>\n",
       "      <td>0.0000</td>\n",
       "      <td>0</td>\n",
       "      <td>0</td>\n",
       "      <td>0</td>\n",
       "      <td>0</td>\n",
       "      <td>0</td>\n",
       "      <td>0</td>\n",
       "      <td>0</td>\n",
       "      <td>0</td>\n",
       "      <td>0</td>\n",
       "      <td>0</td>\n",
       "      <td>1987</td>\n",
       "      <td>1047</td>\n",
       "      <td>0</td>\n",
       "      <td>20</td>\n",
       "      <td>0</td>\n",
       "      <td>0</td>\n",
       "      <td>0</td>\n",
       "      <td>0</td>\n",
       "      <td>0.000000e+00</td>\n",
       "      <td>0.000</td>\n",
       "      <td>0.000000e+00</td>\n",
       "      <td>0.000000e+00</td>\n",
       "      <td>Non-Tor</td>\n",
       "      <td>AUDIO-STREAMING</td>\n",
       "    </tr>\n",
       "    <tr>\n",
       "      <th>2</th>\n",
       "      <td>10.152.152.11-216.58.220.99-57160-443-6</td>\n",
       "      <td>10.152.152.11</td>\n",
       "      <td>57160</td>\n",
       "      <td>216.58.220.99</td>\n",
       "      <td>443</td>\n",
       "      <td>6</td>\n",
       "      <td>24/07/2015 04:09:48 PM</td>\n",
       "      <td>431</td>\n",
       "      <td>1</td>\n",
       "      <td>1</td>\n",
       "      <td>0</td>\n",
       "      <td>0</td>\n",
       "      <td>0</td>\n",
       "      <td>0</td>\n",
       "      <td>0.000000</td>\n",
       "      <td>0.000000</td>\n",
       "      <td>0</td>\n",
       "      <td>0</td>\n",
       "      <td>0.0000</td>\n",
       "      <td>0.000000</td>\n",
       "      <td>0.00000</td>\n",
       "      <td>4640.371230</td>\n",
       "      <td>431.00000</td>\n",
       "      <td>0.00000</td>\n",
       "      <td>431</td>\n",
       "      <td>431</td>\n",
       "      <td>0</td>\n",
       "      <td>0.00000</td>\n",
       "      <td>0.00000</td>\n",
       "      <td>0</td>\n",
       "      <td>0</td>\n",
       "      <td>0</td>\n",
       "      <td>0.00000</td>\n",
       "      <td>0.00000</td>\n",
       "      <td>0</td>\n",
       "      <td>0</td>\n",
       "      <td>0</td>\n",
       "      <td>0</td>\n",
       "      <td>0</td>\n",
       "      <td>0</td>\n",
       "      <td>20</td>\n",
       "      <td>20</td>\n",
       "      <td>2320.185615</td>\n",
       "      <td>2320.185615</td>\n",
       "      <td>0</td>\n",
       "      <td>0</td>\n",
       "      <td>0.000000</td>\n",
       "      <td>0.00000</td>\n",
       "      <td>0.000000</td>\n",
       "      <td>2</td>\n",
       "      <td>0</td>\n",
       "      <td>0</td>\n",
       "      <td>0</td>\n",
       "      <td>2</td>\n",
       "      <td>0</td>\n",
       "      <td>0</td>\n",
       "      <td>0</td>\n",
       "      <td>1</td>\n",
       "      <td>0.000000</td>\n",
       "      <td>0.000000</td>\n",
       "      <td>0.0000</td>\n",
       "      <td>0</td>\n",
       "      <td>0</td>\n",
       "      <td>0</td>\n",
       "      <td>0</td>\n",
       "      <td>0</td>\n",
       "      <td>0</td>\n",
       "      <td>0</td>\n",
       "      <td>0</td>\n",
       "      <td>0</td>\n",
       "      <td>0</td>\n",
       "      <td>2049</td>\n",
       "      <td>1047</td>\n",
       "      <td>0</td>\n",
       "      <td>20</td>\n",
       "      <td>0</td>\n",
       "      <td>0</td>\n",
       "      <td>0</td>\n",
       "      <td>0</td>\n",
       "      <td>0.000000e+00</td>\n",
       "      <td>0.000</td>\n",
       "      <td>0.000000e+00</td>\n",
       "      <td>0.000000e+00</td>\n",
       "      <td>Non-Tor</td>\n",
       "      <td>AUDIO-STREAMING</td>\n",
       "    </tr>\n",
       "    <tr>\n",
       "      <th>3</th>\n",
       "      <td>10.152.152.11-74.125.136.120-49134-443-6</td>\n",
       "      <td>10.152.152.11</td>\n",
       "      <td>49134</td>\n",
       "      <td>74.125.136.120</td>\n",
       "      <td>443</td>\n",
       "      <td>6</td>\n",
       "      <td>24/07/2015 04:09:48 PM</td>\n",
       "      <td>359</td>\n",
       "      <td>1</td>\n",
       "      <td>1</td>\n",
       "      <td>0</td>\n",
       "      <td>0</td>\n",
       "      <td>0</td>\n",
       "      <td>0</td>\n",
       "      <td>0.000000</td>\n",
       "      <td>0.000000</td>\n",
       "      <td>0</td>\n",
       "      <td>0</td>\n",
       "      <td>0.0000</td>\n",
       "      <td>0.000000</td>\n",
       "      <td>0.00000</td>\n",
       "      <td>5571.030641</td>\n",
       "      <td>359.00000</td>\n",
       "      <td>0.00000</td>\n",
       "      <td>359</td>\n",
       "      <td>359</td>\n",
       "      <td>0</td>\n",
       "      <td>0.00000</td>\n",
       "      <td>0.00000</td>\n",
       "      <td>0</td>\n",
       "      <td>0</td>\n",
       "      <td>0</td>\n",
       "      <td>0.00000</td>\n",
       "      <td>0.00000</td>\n",
       "      <td>0</td>\n",
       "      <td>0</td>\n",
       "      <td>0</td>\n",
       "      <td>0</td>\n",
       "      <td>0</td>\n",
       "      <td>0</td>\n",
       "      <td>20</td>\n",
       "      <td>20</td>\n",
       "      <td>2785.515320</td>\n",
       "      <td>2785.515320</td>\n",
       "      <td>0</td>\n",
       "      <td>0</td>\n",
       "      <td>0.000000</td>\n",
       "      <td>0.00000</td>\n",
       "      <td>0.000000</td>\n",
       "      <td>2</td>\n",
       "      <td>0</td>\n",
       "      <td>0</td>\n",
       "      <td>0</td>\n",
       "      <td>2</td>\n",
       "      <td>0</td>\n",
       "      <td>0</td>\n",
       "      <td>0</td>\n",
       "      <td>1</td>\n",
       "      <td>0.000000</td>\n",
       "      <td>0.000000</td>\n",
       "      <td>0.0000</td>\n",
       "      <td>0</td>\n",
       "      <td>0</td>\n",
       "      <td>0</td>\n",
       "      <td>0</td>\n",
       "      <td>0</td>\n",
       "      <td>0</td>\n",
       "      <td>0</td>\n",
       "      <td>0</td>\n",
       "      <td>0</td>\n",
       "      <td>0</td>\n",
       "      <td>2008</td>\n",
       "      <td>1047</td>\n",
       "      <td>0</td>\n",
       "      <td>20</td>\n",
       "      <td>0</td>\n",
       "      <td>0</td>\n",
       "      <td>0</td>\n",
       "      <td>0</td>\n",
       "      <td>0.000000e+00</td>\n",
       "      <td>0.000</td>\n",
       "      <td>0.000000e+00</td>\n",
       "      <td>0.000000e+00</td>\n",
       "      <td>Non-Tor</td>\n",
       "      <td>AUDIO-STREAMING</td>\n",
       "    </tr>\n",
       "    <tr>\n",
       "      <th>4</th>\n",
       "      <td>10.152.152.11-173.194.65.127-34697-19305-6</td>\n",
       "      <td>10.152.152.11</td>\n",
       "      <td>34697</td>\n",
       "      <td>173.194.65.127</td>\n",
       "      <td>19305</td>\n",
       "      <td>6</td>\n",
       "      <td>24/07/2015 04:09:45 PM</td>\n",
       "      <td>10778451</td>\n",
       "      <td>591</td>\n",
       "      <td>400</td>\n",
       "      <td>64530</td>\n",
       "      <td>6659</td>\n",
       "      <td>131</td>\n",
       "      <td>0</td>\n",
       "      <td>109.187817</td>\n",
       "      <td>22.283313</td>\n",
       "      <td>498</td>\n",
       "      <td>0</td>\n",
       "      <td>16.6475</td>\n",
       "      <td>46.833714</td>\n",
       "      <td>6604.75239</td>\n",
       "      <td>91.942711</td>\n",
       "      <td>10887.32424</td>\n",
       "      <td>11412.46641</td>\n",
       "      <td>78158</td>\n",
       "      <td>13</td>\n",
       "      <td>10778451</td>\n",
       "      <td>18268.56102</td>\n",
       "      <td>11786.14309</td>\n",
       "      <td>81171</td>\n",
       "      <td>126</td>\n",
       "      <td>10747836</td>\n",
       "      <td>26936.93233</td>\n",
       "      <td>15897.73845</td>\n",
       "      <td>78158</td>\n",
       "      <td>307</td>\n",
       "      <td>1</td>\n",
       "      <td>0</td>\n",
       "      <td>0</td>\n",
       "      <td>0</td>\n",
       "      <td>11820</td>\n",
       "      <td>8000</td>\n",
       "      <td>54.831627</td>\n",
       "      <td>37.111084</td>\n",
       "      <td>0</td>\n",
       "      <td>498</td>\n",
       "      <td>71.876008</td>\n",
       "      <td>56.93647</td>\n",
       "      <td>3241.761603</td>\n",
       "      <td>1</td>\n",
       "      <td>0</td>\n",
       "      <td>0</td>\n",
       "      <td>659</td>\n",
       "      <td>991</td>\n",
       "      <td>0</td>\n",
       "      <td>0</td>\n",
       "      <td>0</td>\n",
       "      <td>0</td>\n",
       "      <td>71.948537</td>\n",
       "      <td>109.187817</td>\n",
       "      <td>16.6475</td>\n",
       "      <td>0</td>\n",
       "      <td>0</td>\n",
       "      <td>0</td>\n",
       "      <td>0</td>\n",
       "      <td>659</td>\n",
       "      <td>6605</td>\n",
       "      <td>0</td>\n",
       "      <td>65</td>\n",
       "      <td>0</td>\n",
       "      <td>6</td>\n",
       "      <td>1382</td>\n",
       "      <td>2320</td>\n",
       "      <td>581</td>\n",
       "      <td>20</td>\n",
       "      <td>0</td>\n",
       "      <td>0</td>\n",
       "      <td>0</td>\n",
       "      <td>0</td>\n",
       "      <td>1.437760e+15</td>\n",
       "      <td>3117718.131</td>\n",
       "      <td>1.437760e+15</td>\n",
       "      <td>1.437760e+15</td>\n",
       "      <td>Non-Tor</td>\n",
       "      <td>AUDIO-STREAMING</td>\n",
       "    </tr>\n",
       "  </tbody>\n",
       "</table>\n",
       "</div>"
      ],
      "text/plain": [
       "                                      Flow ID         Src IP  Src Port  \\\n",
       "0     10.152.152.11-216.58.220.99-57158-443-6  10.152.152.11     57158   \n",
       "1     10.152.152.11-216.58.220.99-57159-443-6  10.152.152.11     57159   \n",
       "2     10.152.152.11-216.58.220.99-57160-443-6  10.152.152.11     57160   \n",
       "3    10.152.152.11-74.125.136.120-49134-443-6  10.152.152.11     49134   \n",
       "4  10.152.152.11-173.194.65.127-34697-19305-6  10.152.152.11     34697   \n",
       "\n",
       "           Dst IP  Dst Port  Protocol               Timestamp  Flow Duration  \\\n",
       "0   216.58.220.99       443         6  24/07/2015 04:09:48 PM            229   \n",
       "1   216.58.220.99       443         6  24/07/2015 04:09:48 PM            407   \n",
       "2   216.58.220.99       443         6  24/07/2015 04:09:48 PM            431   \n",
       "3  74.125.136.120       443         6  24/07/2015 04:09:48 PM            359   \n",
       "4  173.194.65.127     19305         6  24/07/2015 04:09:45 PM       10778451   \n",
       "\n",
       "   Total Fwd Packet  Total Bwd packets  Total Length of Fwd Packet  \\\n",
       "0                 1                  1                           0   \n",
       "1                 1                  1                           0   \n",
       "2                 1                  1                           0   \n",
       "3                 1                  1                           0   \n",
       "4               591                400                       64530   \n",
       "\n",
       "   Total Length of Bwd Packet  Fwd Packet Length Max  Fwd Packet Length Min  \\\n",
       "0                           0                      0                      0   \n",
       "1                           0                      0                      0   \n",
       "2                           0                      0                      0   \n",
       "3                           0                      0                      0   \n",
       "4                        6659                    131                      0   \n",
       "\n",
       "   Fwd Packet Length Mean  Fwd Packet Length Std  Bwd Packet Length Max  \\\n",
       "0                0.000000               0.000000                      0   \n",
       "1                0.000000               0.000000                      0   \n",
       "2                0.000000               0.000000                      0   \n",
       "3                0.000000               0.000000                      0   \n",
       "4              109.187817              22.283313                    498   \n",
       "\n",
       "   Bwd Packet Length Min  Bwd Packet Length Mean  Bwd Packet Length Std  \\\n",
       "0                      0                  0.0000               0.000000   \n",
       "1                      0                  0.0000               0.000000   \n",
       "2                      0                  0.0000               0.000000   \n",
       "3                      0                  0.0000               0.000000   \n",
       "4                      0                 16.6475              46.833714   \n",
       "\n",
       "   Flow Bytes/s  Flow Packets/s  Flow IAT Mean  Flow IAT Std  Flow IAT Max  \\\n",
       "0       0.00000     8733.624454      229.00000       0.00000           229   \n",
       "1       0.00000     4914.004914      407.00000       0.00000           407   \n",
       "2       0.00000     4640.371230      431.00000       0.00000           431   \n",
       "3       0.00000     5571.030641      359.00000       0.00000           359   \n",
       "4    6604.75239       91.942711    10887.32424   11412.46641         78158   \n",
       "\n",
       "   Flow IAT Min  Fwd IAT Total  Fwd IAT Mean  Fwd IAT Std  Fwd IAT Max  \\\n",
       "0           229              0       0.00000      0.00000            0   \n",
       "1           407              0       0.00000      0.00000            0   \n",
       "2           431              0       0.00000      0.00000            0   \n",
       "3           359              0       0.00000      0.00000            0   \n",
       "4            13       10778451   18268.56102  11786.14309        81171   \n",
       "\n",
       "   Fwd IAT Min  Bwd IAT Total  Bwd IAT Mean  Bwd IAT Std  Bwd IAT Max  \\\n",
       "0            0              0       0.00000      0.00000            0   \n",
       "1            0              0       0.00000      0.00000            0   \n",
       "2            0              0       0.00000      0.00000            0   \n",
       "3            0              0       0.00000      0.00000            0   \n",
       "4          126       10747836   26936.93233  15897.73845        78158   \n",
       "\n",
       "   Bwd IAT Min  Fwd PSH Flags  Bwd PSH Flags  Fwd URG Flags  Bwd URG Flags  \\\n",
       "0            0              0              0              0              0   \n",
       "1            0              0              0              0              0   \n",
       "2            0              0              0              0              0   \n",
       "3            0              0              0              0              0   \n",
       "4          307              1              0              0              0   \n",
       "\n",
       "   Fwd Header Length  Bwd Header Length  Fwd Packets/s  Bwd Packets/s  \\\n",
       "0                 20                 20    4366.812227    4366.812227   \n",
       "1                 20                 20    2457.002457    2457.002457   \n",
       "2                 20                 20    2320.185615    2320.185615   \n",
       "3                 20                 20    2785.515320    2785.515320   \n",
       "4              11820               8000      54.831627      37.111084   \n",
       "\n",
       "   Packet Length Min  Packet Length Max  Packet Length Mean  \\\n",
       "0                  0                  0            0.000000   \n",
       "1                  0                  0            0.000000   \n",
       "2                  0                  0            0.000000   \n",
       "3                  0                  0            0.000000   \n",
       "4                  0                498           71.876008   \n",
       "\n",
       "   Packet Length Std  Packet Length Variance  FIN Flag Count  SYN Flag Count  \\\n",
       "0            0.00000                0.000000               2               0   \n",
       "1            0.00000                0.000000               2               0   \n",
       "2            0.00000                0.000000               2               0   \n",
       "3            0.00000                0.000000               2               0   \n",
       "4           56.93647             3241.761603               1               0   \n",
       "\n",
       "   RST Flag Count  PSH Flag Count  ACK Flag Count  URG Flag Count  \\\n",
       "0               0               0               2               0   \n",
       "1               0               0               2               0   \n",
       "2               0               0               2               0   \n",
       "3               0               0               2               0   \n",
       "4               0             659             991               0   \n",
       "\n",
       "   CWE Flag Count  ECE Flag Count  Down/Up Ratio  Average Packet Size  \\\n",
       "0               0               0              1             0.000000   \n",
       "1               0               0              1             0.000000   \n",
       "2               0               0              1             0.000000   \n",
       "3               0               0              1             0.000000   \n",
       "4               0               0              0            71.948537   \n",
       "\n",
       "   Fwd Segment Size Avg  Bwd Segment Size Avg  Fwd Bytes/Bulk Avg  \\\n",
       "0              0.000000                0.0000                   0   \n",
       "1              0.000000                0.0000                   0   \n",
       "2              0.000000                0.0000                   0   \n",
       "3              0.000000                0.0000                   0   \n",
       "4            109.187817               16.6475                   0   \n",
       "\n",
       "   Fwd Packet/Bulk Avg  Fwd Bulk Rate Avg  Bwd Bytes/Bulk Avg  \\\n",
       "0                    0                  0                   0   \n",
       "1                    0                  0                   0   \n",
       "2                    0                  0                   0   \n",
       "3                    0                  0                   0   \n",
       "4                    0                  0                   0   \n",
       "\n",
       "   Bwd Packet/Bulk Avg  Bwd Bulk Rate Avg  Subflow Fwd Packets  \\\n",
       "0                    0                  0                    0   \n",
       "1                    0                  0                    0   \n",
       "2                    0                  0                    0   \n",
       "3                    0                  0                    0   \n",
       "4                  659               6605                    0   \n",
       "\n",
       "   Subflow Fwd Bytes  Subflow Bwd Packets  Subflow Bwd Bytes  \\\n",
       "0                  0                    0                  0   \n",
       "1                  0                    0                  0   \n",
       "2                  0                    0                  0   \n",
       "3                  0                    0                  0   \n",
       "4                 65                    0                  6   \n",
       "\n",
       "   FWD Init Win Bytes  Bwd Init Win Bytes  Fwd Act Data Pkts  \\\n",
       "0                1892                1047                  0   \n",
       "1                1987                1047                  0   \n",
       "2                2049                1047                  0   \n",
       "3                2008                1047                  0   \n",
       "4                1382                2320                581   \n",
       "\n",
       "   Fwd Seg Size Min  Active Mean  Active Std  Active Max  Active Min  \\\n",
       "0                20            0           0           0           0   \n",
       "1                20            0           0           0           0   \n",
       "2                20            0           0           0           0   \n",
       "3                20            0           0           0           0   \n",
       "4                20            0           0           0           0   \n",
       "\n",
       "      Idle Mean     Idle Std      Idle Max      Idle Min    Label  \\\n",
       "0  0.000000e+00        0.000  0.000000e+00  0.000000e+00  Non-Tor   \n",
       "1  0.000000e+00        0.000  0.000000e+00  0.000000e+00  Non-Tor   \n",
       "2  0.000000e+00        0.000  0.000000e+00  0.000000e+00  Non-Tor   \n",
       "3  0.000000e+00        0.000  0.000000e+00  0.000000e+00  Non-Tor   \n",
       "4  1.437760e+15  3117718.131  1.437760e+15  1.437760e+15  Non-Tor   \n",
       "\n",
       "           Label.1  \n",
       "0  AUDIO-STREAMING  \n",
       "1  AUDIO-STREAMING  \n",
       "2  AUDIO-STREAMING  \n",
       "3  AUDIO-STREAMING  \n",
       "4  AUDIO-STREAMING  "
      ]
     },
     "execution_count": 40,
     "metadata": {},
     "output_type": "execute_result"
    }
   ],
   "source": [
    "df.head()"
   ]
  },
  {
   "cell_type": "code",
   "execution_count": 9,
   "metadata": {},
   "outputs": [],
   "source": [
    "df.columns = [i.lower().strip().replace(' ', '_') for i in df.columns]"
   ]
  },
  {
   "cell_type": "code",
   "execution_count": 43,
   "metadata": {},
   "outputs": [
    {
     "data": {
      "text/html": [
       "<div>\n",
       "<style scoped>\n",
       "    .dataframe tbody tr th:only-of-type {\n",
       "        vertical-align: middle;\n",
       "    }\n",
       "\n",
       "    .dataframe tbody tr th {\n",
       "        vertical-align: top;\n",
       "    }\n",
       "\n",
       "    .dataframe thead th {\n",
       "        text-align: right;\n",
       "    }\n",
       "</style>\n",
       "<table border=\"1\" class=\"dataframe\">\n",
       "  <thead>\n",
       "    <tr style=\"text-align: right;\">\n",
       "      <th></th>\n",
       "      <th>src_port</th>\n",
       "      <th>dst_port</th>\n",
       "      <th>protocol</th>\n",
       "      <th>flow_duration</th>\n",
       "      <th>total_fwd_packet</th>\n",
       "      <th>total_bwd_packets</th>\n",
       "      <th>total_length_of_fwd_packet</th>\n",
       "      <th>total_length_of_bwd_packet</th>\n",
       "      <th>fwd_packet_length_max</th>\n",
       "      <th>fwd_packet_length_min</th>\n",
       "      <th>fwd_packet_length_mean</th>\n",
       "      <th>fwd_packet_length_std</th>\n",
       "      <th>bwd_packet_length_max</th>\n",
       "      <th>bwd_packet_length_min</th>\n",
       "      <th>bwd_packet_length_mean</th>\n",
       "      <th>bwd_packet_length_std</th>\n",
       "      <th>flow_bytes/s</th>\n",
       "      <th>flow_packets/s</th>\n",
       "      <th>flow_iat_mean</th>\n",
       "      <th>flow_iat_std</th>\n",
       "      <th>flow_iat_max</th>\n",
       "      <th>flow_iat_min</th>\n",
       "      <th>fwd_iat_total</th>\n",
       "      <th>fwd_iat_mean</th>\n",
       "      <th>fwd_iat_std</th>\n",
       "      <th>fwd_iat_max</th>\n",
       "      <th>fwd_iat_min</th>\n",
       "      <th>bwd_iat_total</th>\n",
       "      <th>bwd_iat_mean</th>\n",
       "      <th>bwd_iat_std</th>\n",
       "      <th>bwd_iat_max</th>\n",
       "      <th>bwd_iat_min</th>\n",
       "      <th>fwd_psh_flags</th>\n",
       "      <th>bwd_psh_flags</th>\n",
       "      <th>fwd_urg_flags</th>\n",
       "      <th>bwd_urg_flags</th>\n",
       "      <th>fwd_header_length</th>\n",
       "      <th>bwd_header_length</th>\n",
       "      <th>fwd_packets/s</th>\n",
       "      <th>bwd_packets/s</th>\n",
       "      <th>packet_length_min</th>\n",
       "      <th>packet_length_max</th>\n",
       "      <th>packet_length_mean</th>\n",
       "      <th>packet_length_std</th>\n",
       "      <th>packet_length_variance</th>\n",
       "      <th>fin_flag_count</th>\n",
       "      <th>syn_flag_count</th>\n",
       "      <th>rst_flag_count</th>\n",
       "      <th>psh_flag_count</th>\n",
       "      <th>ack_flag_count</th>\n",
       "      <th>urg_flag_count</th>\n",
       "      <th>cwe_flag_count</th>\n",
       "      <th>ece_flag_count</th>\n",
       "      <th>down/up_ratio</th>\n",
       "      <th>average_packet_size</th>\n",
       "      <th>fwd_segment_size_avg</th>\n",
       "      <th>bwd_segment_size_avg</th>\n",
       "      <th>fwd_bytes/bulk_avg</th>\n",
       "      <th>fwd_packet/bulk_avg</th>\n",
       "      <th>fwd_bulk_rate_avg</th>\n",
       "      <th>bwd_bytes/bulk_avg</th>\n",
       "      <th>bwd_packet/bulk_avg</th>\n",
       "      <th>bwd_bulk_rate_avg</th>\n",
       "      <th>subflow_fwd_packets</th>\n",
       "      <th>subflow_fwd_bytes</th>\n",
       "      <th>subflow_bwd_packets</th>\n",
       "      <th>subflow_bwd_bytes</th>\n",
       "      <th>fwd_init_win_bytes</th>\n",
       "      <th>bwd_init_win_bytes</th>\n",
       "      <th>fwd_act_data_pkts</th>\n",
       "      <th>fwd_seg_size_min</th>\n",
       "      <th>active_mean</th>\n",
       "      <th>active_std</th>\n",
       "      <th>active_max</th>\n",
       "      <th>active_min</th>\n",
       "      <th>idle_mean</th>\n",
       "      <th>idle_std</th>\n",
       "      <th>idle_max</th>\n",
       "      <th>idle_min</th>\n",
       "    </tr>\n",
       "  </thead>\n",
       "  <tbody>\n",
       "    <tr>\n",
       "      <th>count</th>\n",
       "      <td>141530.000000</td>\n",
       "      <td>141530.000000</td>\n",
       "      <td>141530.000000</td>\n",
       "      <td>1.415300e+05</td>\n",
       "      <td>141530.000000</td>\n",
       "      <td>141530.000000</td>\n",
       "      <td>1.415300e+05</td>\n",
       "      <td>1.415300e+05</td>\n",
       "      <td>141530.000000</td>\n",
       "      <td>141530.000000</td>\n",
       "      <td>141530.000000</td>\n",
       "      <td>141530.000000</td>\n",
       "      <td>141530.000000</td>\n",
       "      <td>141530.000000</td>\n",
       "      <td>141530.000000</td>\n",
       "      <td>141530.000000</td>\n",
       "      <td>1.414830e+05</td>\n",
       "      <td>1.415300e+05</td>\n",
       "      <td>1.415300e+05</td>\n",
       "      <td>1.415300e+05</td>\n",
       "      <td>1.415300e+05</td>\n",
       "      <td>1.415300e+05</td>\n",
       "      <td>1.415300e+05</td>\n",
       "      <td>1.415300e+05</td>\n",
       "      <td>1.415300e+05</td>\n",
       "      <td>1.415300e+05</td>\n",
       "      <td>1.415300e+05</td>\n",
       "      <td>1.415300e+05</td>\n",
       "      <td>1.415300e+05</td>\n",
       "      <td>1.415300e+05</td>\n",
       "      <td>1.415300e+05</td>\n",
       "      <td>1.415300e+05</td>\n",
       "      <td>141530.000000</td>\n",
       "      <td>141530.0</td>\n",
       "      <td>141530.0</td>\n",
       "      <td>141530.0</td>\n",
       "      <td>1.415300e+05</td>\n",
       "      <td>1.415300e+05</td>\n",
       "      <td>1.415300e+05</td>\n",
       "      <td>141530.000000</td>\n",
       "      <td>141530.000000</td>\n",
       "      <td>141530.000000</td>\n",
       "      <td>141530.000000</td>\n",
       "      <td>141530.000000</td>\n",
       "      <td>1.415300e+05</td>\n",
       "      <td>141530.000000</td>\n",
       "      <td>141530.000000</td>\n",
       "      <td>141530.000000</td>\n",
       "      <td>141530.000000</td>\n",
       "      <td>141530.000000</td>\n",
       "      <td>141530.0</td>\n",
       "      <td>141530.0</td>\n",
       "      <td>141530.0</td>\n",
       "      <td>141530.000000</td>\n",
       "      <td>141530.000000</td>\n",
       "      <td>141530.000000</td>\n",
       "      <td>141530.000000</td>\n",
       "      <td>141530.0</td>\n",
       "      <td>141530.0</td>\n",
       "      <td>141530.0</td>\n",
       "      <td>141530.0</td>\n",
       "      <td>141530.000000</td>\n",
       "      <td>1.415300e+05</td>\n",
       "      <td>141530.000000</td>\n",
       "      <td>141530.000000</td>\n",
       "      <td>141530.0</td>\n",
       "      <td>141530.000000</td>\n",
       "      <td>141530.000000</td>\n",
       "      <td>141530.000000</td>\n",
       "      <td>141530.000000</td>\n",
       "      <td>141530.000000</td>\n",
       "      <td>141530.0</td>\n",
       "      <td>141530.0</td>\n",
       "      <td>141530.0</td>\n",
       "      <td>141530.0</td>\n",
       "      <td>1.415300e+05</td>\n",
       "      <td>1.415300e+05</td>\n",
       "      <td>1.415300e+05</td>\n",
       "      <td>1.415300e+05</td>\n",
       "    </tr>\n",
       "    <tr>\n",
       "      <th>mean</th>\n",
       "      <td>38450.268819</td>\n",
       "      <td>18124.647333</td>\n",
       "      <td>10.350427</td>\n",
       "      <td>2.081280e+07</td>\n",
       "      <td>152.800749</td>\n",
       "      <td>154.642062</td>\n",
       "      <td>1.126211e+05</td>\n",
       "      <td>1.304530e+05</td>\n",
       "      <td>208.920420</td>\n",
       "      <td>15.617078</td>\n",
       "      <td>69.594959</td>\n",
       "      <td>63.974203</td>\n",
       "      <td>229.971299</td>\n",
       "      <td>41.252194</td>\n",
       "      <td>107.286657</td>\n",
       "      <td>65.183434</td>\n",
       "      <td>inf</td>\n",
       "      <td>inf</td>\n",
       "      <td>2.604871e+06</td>\n",
       "      <td>3.217701e+06</td>\n",
       "      <td>9.893961e+06</td>\n",
       "      <td>9.079030e+05</td>\n",
       "      <td>1.976846e+07</td>\n",
       "      <td>4.101510e+06</td>\n",
       "      <td>2.590150e+06</td>\n",
       "      <td>9.198071e+06</td>\n",
       "      <td>2.481004e+06</td>\n",
       "      <td>1.663278e+07</td>\n",
       "      <td>3.054588e+06</td>\n",
       "      <td>2.205417e+06</td>\n",
       "      <td>7.408141e+06</td>\n",
       "      <td>1.617510e+06</td>\n",
       "      <td>0.099562</td>\n",
       "      <td>0.0</td>\n",
       "      <td>0.0</td>\n",
       "      <td>0.0</td>\n",
       "      <td>2.933009e+03</td>\n",
       "      <td>3.099272e+03</td>\n",
       "      <td>6.321814e+03</td>\n",
       "      <td>4574.665230</td>\n",
       "      <td>14.365604</td>\n",
       "      <td>323.627316</td>\n",
       "      <td>94.373958</td>\n",
       "      <td>108.474093</td>\n",
       "      <td>5.488104e+04</td>\n",
       "      <td>0.455691</td>\n",
       "      <td>0.462284</td>\n",
       "      <td>0.038571</td>\n",
       "      <td>61.523168</td>\n",
       "      <td>268.251749</td>\n",
       "      <td>0.0</td>\n",
       "      <td>0.0</td>\n",
       "      <td>0.0</td>\n",
       "      <td>0.607214</td>\n",
       "      <td>108.900008</td>\n",
       "      <td>69.594959</td>\n",
       "      <td>107.286657</td>\n",
       "      <td>0.0</td>\n",
       "      <td>0.0</td>\n",
       "      <td>0.0</td>\n",
       "      <td>0.0</td>\n",
       "      <td>158.869455</td>\n",
       "      <td>4.521801e+04</td>\n",
       "      <td>0.286745</td>\n",
       "      <td>43.128022</td>\n",
       "      <td>0.0</td>\n",
       "      <td>55.488568</td>\n",
       "      <td>5308.189670</td>\n",
       "      <td>1766.762411</td>\n",
       "      <td>96.881573</td>\n",
       "      <td>15.808182</td>\n",
       "      <td>0.0</td>\n",
       "      <td>0.0</td>\n",
       "      <td>0.0</td>\n",
       "      <td>0.0</td>\n",
       "      <td>7.028030e+14</td>\n",
       "      <td>5.526137e+13</td>\n",
       "      <td>7.305885e+14</td>\n",
       "      <td>5.994078e+14</td>\n",
       "    </tr>\n",
       "    <tr>\n",
       "      <th>std</th>\n",
       "      <td>19124.801990</td>\n",
       "      <td>22202.197159</td>\n",
       "      <td>5.431807</td>\n",
       "      <td>3.809155e+07</td>\n",
       "      <td>2378.323352</td>\n",
       "      <td>3418.715287</td>\n",
       "      <td>3.251357e+06</td>\n",
       "      <td>4.566180e+06</td>\n",
       "      <td>649.432333</td>\n",
       "      <td>31.312298</td>\n",
       "      <td>219.965954</td>\n",
       "      <td>168.646012</td>\n",
       "      <td>786.736861</td>\n",
       "      <td>100.785013</td>\n",
       "      <td>240.511916</td>\n",
       "      <td>193.995126</td>\n",
       "      <td>NaN</td>\n",
       "      <td>NaN</td>\n",
       "      <td>7.124917e+06</td>\n",
       "      <td>7.753864e+06</td>\n",
       "      <td>1.968518e+07</td>\n",
       "      <td>5.665210e+06</td>\n",
       "      <td>3.765663e+07</td>\n",
       "      <td>1.145549e+07</td>\n",
       "      <td>7.138834e+06</td>\n",
       "      <td>1.921286e+07</td>\n",
       "      <td>1.049675e+07</td>\n",
       "      <td>3.590770e+07</td>\n",
       "      <td>1.036402e+07</td>\n",
       "      <td>6.824438e+06</td>\n",
       "      <td>1.801633e+07</td>\n",
       "      <td>9.098340e+06</td>\n",
       "      <td>0.299416</td>\n",
       "      <td>0.0</td>\n",
       "      <td>0.0</td>\n",
       "      <td>0.0</td>\n",
       "      <td>4.752686e+04</td>\n",
       "      <td>6.995175e+04</td>\n",
       "      <td>3.558899e+04</td>\n",
       "      <td>21380.969146</td>\n",
       "      <td>23.951595</td>\n",
       "      <td>966.025271</td>\n",
       "      <td>190.563975</td>\n",
       "      <td>207.640840</td>\n",
       "      <td>7.933552e+05</td>\n",
       "      <td>0.556133</td>\n",
       "      <td>0.844423</td>\n",
       "      <td>0.342543</td>\n",
       "      <td>807.239077</td>\n",
       "      <td>5342.816116</td>\n",
       "      <td>0.0</td>\n",
       "      <td>0.0</td>\n",
       "      <td>0.0</td>\n",
       "      <td>12.497544</td>\n",
       "      <td>197.306424</td>\n",
       "      <td>219.965954</td>\n",
       "      <td>240.511916</td>\n",
       "      <td>0.0</td>\n",
       "      <td>0.0</td>\n",
       "      <td>0.0</td>\n",
       "      <td>0.0</td>\n",
       "      <td>3042.371342</td>\n",
       "      <td>1.046669e+06</td>\n",
       "      <td>0.452243</td>\n",
       "      <td>137.725733</td>\n",
       "      <td>0.0</td>\n",
       "      <td>134.367698</td>\n",
       "      <td>9895.622577</td>\n",
       "      <td>7563.995687</td>\n",
       "      <td>1582.814902</td>\n",
       "      <td>7.110714</td>\n",
       "      <td>0.0</td>\n",
       "      <td>0.0</td>\n",
       "      <td>0.0</td>\n",
       "      <td>0.0</td>\n",
       "      <td>7.058710e+14</td>\n",
       "      <td>1.930165e+14</td>\n",
       "      <td>7.248202e+14</td>\n",
       "      <td>7.138287e+14</td>\n",
       "    </tr>\n",
       "    <tr>\n",
       "      <th>min</th>\n",
       "      <td>0.000000</td>\n",
       "      <td>0.000000</td>\n",
       "      <td>0.000000</td>\n",
       "      <td>0.000000e+00</td>\n",
       "      <td>1.000000</td>\n",
       "      <td>0.000000</td>\n",
       "      <td>0.000000e+00</td>\n",
       "      <td>0.000000e+00</td>\n",
       "      <td>0.000000</td>\n",
       "      <td>0.000000</td>\n",
       "      <td>0.000000</td>\n",
       "      <td>0.000000</td>\n",
       "      <td>0.000000</td>\n",
       "      <td>0.000000</td>\n",
       "      <td>0.000000</td>\n",
       "      <td>0.000000</td>\n",
       "      <td>0.000000e+00</td>\n",
       "      <td>1.666866e-02</td>\n",
       "      <td>0.000000e+00</td>\n",
       "      <td>0.000000e+00</td>\n",
       "      <td>0.000000e+00</td>\n",
       "      <td>-2.255000e+03</td>\n",
       "      <td>0.000000e+00</td>\n",
       "      <td>0.000000e+00</td>\n",
       "      <td>0.000000e+00</td>\n",
       "      <td>0.000000e+00</td>\n",
       "      <td>-4.580000e+02</td>\n",
       "      <td>0.000000e+00</td>\n",
       "      <td>0.000000e+00</td>\n",
       "      <td>0.000000e+00</td>\n",
       "      <td>0.000000e+00</td>\n",
       "      <td>-4.450000e+02</td>\n",
       "      <td>0.000000</td>\n",
       "      <td>0.0</td>\n",
       "      <td>0.0</td>\n",
       "      <td>0.0</td>\n",
       "      <td>0.000000e+00</td>\n",
       "      <td>0.000000e+00</td>\n",
       "      <td>0.000000e+00</td>\n",
       "      <td>0.000000</td>\n",
       "      <td>0.000000</td>\n",
       "      <td>0.000000</td>\n",
       "      <td>0.000000</td>\n",
       "      <td>0.000000</td>\n",
       "      <td>0.000000e+00</td>\n",
       "      <td>0.000000</td>\n",
       "      <td>0.000000</td>\n",
       "      <td>0.000000</td>\n",
       "      <td>0.000000</td>\n",
       "      <td>0.000000</td>\n",
       "      <td>0.0</td>\n",
       "      <td>0.0</td>\n",
       "      <td>0.0</td>\n",
       "      <td>0.000000</td>\n",
       "      <td>0.000000</td>\n",
       "      <td>0.000000</td>\n",
       "      <td>0.000000</td>\n",
       "      <td>0.0</td>\n",
       "      <td>0.0</td>\n",
       "      <td>0.0</td>\n",
       "      <td>0.0</td>\n",
       "      <td>0.000000</td>\n",
       "      <td>0.000000e+00</td>\n",
       "      <td>0.000000</td>\n",
       "      <td>0.000000</td>\n",
       "      <td>0.0</td>\n",
       "      <td>0.000000</td>\n",
       "      <td>0.000000</td>\n",
       "      <td>0.000000</td>\n",
       "      <td>0.000000</td>\n",
       "      <td>0.000000</td>\n",
       "      <td>0.0</td>\n",
       "      <td>0.0</td>\n",
       "      <td>0.0</td>\n",
       "      <td>0.0</td>\n",
       "      <td>0.000000e+00</td>\n",
       "      <td>0.000000e+00</td>\n",
       "      <td>0.000000e+00</td>\n",
       "      <td>0.000000e+00</td>\n",
       "    </tr>\n",
       "    <tr>\n",
       "      <th>25%</th>\n",
       "      <td>32425.500000</td>\n",
       "      <td>80.000000</td>\n",
       "      <td>6.000000</td>\n",
       "      <td>1.778100e+04</td>\n",
       "      <td>1.000000</td>\n",
       "      <td>0.000000</td>\n",
       "      <td>0.000000e+00</td>\n",
       "      <td>0.000000e+00</td>\n",
       "      <td>0.000000</td>\n",
       "      <td>0.000000</td>\n",
       "      <td>0.000000</td>\n",
       "      <td>0.000000</td>\n",
       "      <td>0.000000</td>\n",
       "      <td>0.000000</td>\n",
       "      <td>0.000000</td>\n",
       "      <td>0.000000</td>\n",
       "      <td>0.000000e+00</td>\n",
       "      <td>6.411654e-01</td>\n",
       "      <td>3.021500e+03</td>\n",
       "      <td>0.000000e+00</td>\n",
       "      <td>1.690825e+04</td>\n",
       "      <td>1.600000e+01</td>\n",
       "      <td>0.000000e+00</td>\n",
       "      <td>0.000000e+00</td>\n",
       "      <td>0.000000e+00</td>\n",
       "      <td>0.000000e+00</td>\n",
       "      <td>0.000000e+00</td>\n",
       "      <td>0.000000e+00</td>\n",
       "      <td>0.000000e+00</td>\n",
       "      <td>0.000000e+00</td>\n",
       "      <td>0.000000e+00</td>\n",
       "      <td>0.000000e+00</td>\n",
       "      <td>0.000000</td>\n",
       "      <td>0.0</td>\n",
       "      <td>0.0</td>\n",
       "      <td>0.0</td>\n",
       "      <td>1.600000e+01</td>\n",
       "      <td>0.000000e+00</td>\n",
       "      <td>3.798137e-01</td>\n",
       "      <td>0.000000</td>\n",
       "      <td>0.000000</td>\n",
       "      <td>0.000000</td>\n",
       "      <td>0.000000</td>\n",
       "      <td>0.000000</td>\n",
       "      <td>0.000000e+00</td>\n",
       "      <td>0.000000</td>\n",
       "      <td>0.000000</td>\n",
       "      <td>0.000000</td>\n",
       "      <td>0.000000</td>\n",
       "      <td>0.000000</td>\n",
       "      <td>0.0</td>\n",
       "      <td>0.0</td>\n",
       "      <td>0.0</td>\n",
       "      <td>0.000000</td>\n",
       "      <td>0.000000</td>\n",
       "      <td>0.000000</td>\n",
       "      <td>0.000000</td>\n",
       "      <td>0.0</td>\n",
       "      <td>0.0</td>\n",
       "      <td>0.0</td>\n",
       "      <td>0.0</td>\n",
       "      <td>0.000000</td>\n",
       "      <td>0.000000e+00</td>\n",
       "      <td>0.000000</td>\n",
       "      <td>0.000000</td>\n",
       "      <td>0.0</td>\n",
       "      <td>0.000000</td>\n",
       "      <td>0.000000</td>\n",
       "      <td>0.000000</td>\n",
       "      <td>0.000000</td>\n",
       "      <td>8.000000</td>\n",
       "      <td>0.0</td>\n",
       "      <td>0.0</td>\n",
       "      <td>0.0</td>\n",
       "      <td>0.0</td>\n",
       "      <td>0.000000e+00</td>\n",
       "      <td>0.000000e+00</td>\n",
       "      <td>0.000000e+00</td>\n",
       "      <td>0.000000e+00</td>\n",
       "    </tr>\n",
       "    <tr>\n",
       "      <th>50%</th>\n",
       "      <td>43528.000000</td>\n",
       "      <td>5355.000000</td>\n",
       "      <td>6.000000</td>\n",
       "      <td>4.162820e+05</td>\n",
       "      <td>2.000000</td>\n",
       "      <td>1.000000</td>\n",
       "      <td>4.400000e+01</td>\n",
       "      <td>0.000000e+00</td>\n",
       "      <td>34.000000</td>\n",
       "      <td>0.000000</td>\n",
       "      <td>22.666667</td>\n",
       "      <td>0.000000</td>\n",
       "      <td>0.000000</td>\n",
       "      <td>0.000000</td>\n",
       "      <td>0.000000</td>\n",
       "      <td>0.000000</td>\n",
       "      <td>7.407686e+01</td>\n",
       "      <td>7.296616e+00</td>\n",
       "      <td>2.071620e+05</td>\n",
       "      <td>1.297621e+04</td>\n",
       "      <td>4.114095e+05</td>\n",
       "      <td>1.660000e+02</td>\n",
       "      <td>2.476785e+05</td>\n",
       "      <td>6.889431e+04</td>\n",
       "      <td>0.000000e+00</td>\n",
       "      <td>1.932950e+05</td>\n",
       "      <td>7.100000e+01</td>\n",
       "      <td>0.000000e+00</td>\n",
       "      <td>0.000000e+00</td>\n",
       "      <td>0.000000e+00</td>\n",
       "      <td>0.000000e+00</td>\n",
       "      <td>0.000000e+00</td>\n",
       "      <td>0.000000</td>\n",
       "      <td>0.0</td>\n",
       "      <td>0.0</td>\n",
       "      <td>0.0</td>\n",
       "      <td>4.000000e+01</td>\n",
       "      <td>1.600000e+01</td>\n",
       "      <td>4.869865e+00</td>\n",
       "      <td>0.713498</td>\n",
       "      <td>0.000000</td>\n",
       "      <td>59.000000</td>\n",
       "      <td>28.363636</td>\n",
       "      <td>9.237604</td>\n",
       "      <td>8.533333e+01</td>\n",
       "      <td>0.000000</td>\n",
       "      <td>0.000000</td>\n",
       "      <td>0.000000</td>\n",
       "      <td>0.000000</td>\n",
       "      <td>2.000000</td>\n",
       "      <td>0.0</td>\n",
       "      <td>0.0</td>\n",
       "      <td>0.0</td>\n",
       "      <td>1.000000</td>\n",
       "      <td>33.000000</td>\n",
       "      <td>22.666667</td>\n",
       "      <td>0.000000</td>\n",
       "      <td>0.0</td>\n",
       "      <td>0.0</td>\n",
       "      <td>0.0</td>\n",
       "      <td>0.0</td>\n",
       "      <td>0.000000</td>\n",
       "      <td>0.000000e+00</td>\n",
       "      <td>0.000000</td>\n",
       "      <td>18.000000</td>\n",
       "      <td>0.0</td>\n",
       "      <td>0.000000</td>\n",
       "      <td>913.000000</td>\n",
       "      <td>0.000000</td>\n",
       "      <td>1.000000</td>\n",
       "      <td>20.000000</td>\n",
       "      <td>0.0</td>\n",
       "      <td>0.0</td>\n",
       "      <td>0.0</td>\n",
       "      <td>0.0</td>\n",
       "      <td>7.281250e+14</td>\n",
       "      <td>0.000000e+00</td>\n",
       "      <td>1.427730e+15</td>\n",
       "      <td>5.584614e+06</td>\n",
       "    </tr>\n",
       "    <tr>\n",
       "      <th>75%</th>\n",
       "      <td>53338.000000</td>\n",
       "      <td>40020.000000</td>\n",
       "      <td>17.000000</td>\n",
       "      <td>1.181470e+07</td>\n",
       "      <td>4.000000</td>\n",
       "      <td>3.000000</td>\n",
       "      <td>2.160000e+02</td>\n",
       "      <td>2.160000e+02</td>\n",
       "      <td>103.000000</td>\n",
       "      <td>31.000000</td>\n",
       "      <td>45.000000</td>\n",
       "      <td>39.259818</td>\n",
       "      <td>213.000000</td>\n",
       "      <td>0.000000</td>\n",
       "      <td>96.969207</td>\n",
       "      <td>11.313709</td>\n",
       "      <td>9.908260e+02</td>\n",
       "      <td>4.006812e+02</td>\n",
       "      <td>1.882400e+06</td>\n",
       "      <td>2.213250e+06</td>\n",
       "      <td>7.210274e+06</td>\n",
       "      <td>1.291208e+05</td>\n",
       "      <td>9.743915e+06</td>\n",
       "      <td>2.682830e+06</td>\n",
       "      <td>1.436683e+06</td>\n",
       "      <td>6.323130e+06</td>\n",
       "      <td>1.024112e+05</td>\n",
       "      <td>1.321916e+06</td>\n",
       "      <td>1.860442e+05</td>\n",
       "      <td>4.591965e+04</td>\n",
       "      <td>7.335540e+05</td>\n",
       "      <td>3.400000e+01</td>\n",
       "      <td>0.000000</td>\n",
       "      <td>0.0</td>\n",
       "      <td>0.0</td>\n",
       "      <td>0.0</td>\n",
       "      <td>9.200000e+01</td>\n",
       "      <td>7.200000e+01</td>\n",
       "      <td>2.807026e+02</td>\n",
       "      <td>37.106760</td>\n",
       "      <td>29.000000</td>\n",
       "      <td>345.000000</td>\n",
       "      <td>95.837366</td>\n",
       "      <td>118.472453</td>\n",
       "      <td>1.403572e+04</td>\n",
       "      <td>1.000000</td>\n",
       "      <td>0.000000</td>\n",
       "      <td>0.000000</td>\n",
       "      <td>2.000000</td>\n",
       "      <td>6.000000</td>\n",
       "      <td>0.0</td>\n",
       "      <td>0.0</td>\n",
       "      <td>0.0</td>\n",
       "      <td>1.000000</td>\n",
       "      <td>141.783730</td>\n",
       "      <td>45.000000</td>\n",
       "      <td>96.969207</td>\n",
       "      <td>0.0</td>\n",
       "      <td>0.0</td>\n",
       "      <td>0.0</td>\n",
       "      <td>0.0</td>\n",
       "      <td>0.000000</td>\n",
       "      <td>0.000000e+00</td>\n",
       "      <td>1.000000</td>\n",
       "      <td>23.000000</td>\n",
       "      <td>0.0</td>\n",
       "      <td>47.000000</td>\n",
       "      <td>14348.000000</td>\n",
       "      <td>1047.000000</td>\n",
       "      <td>2.000000</td>\n",
       "      <td>20.000000</td>\n",
       "      <td>0.0</td>\n",
       "      <td>0.0</td>\n",
       "      <td>0.0</td>\n",
       "      <td>0.0</td>\n",
       "      <td>1.456260e+15</td>\n",
       "      <td>1.031457e+07</td>\n",
       "      <td>1.456320e+15</td>\n",
       "      <td>1.456260e+15</td>\n",
       "    </tr>\n",
       "    <tr>\n",
       "      <th>max</th>\n",
       "      <td>65534.000000</td>\n",
       "      <td>65535.000000</td>\n",
       "      <td>17.000000</td>\n",
       "      <td>1.200000e+08</td>\n",
       "      <td>238161.000000</td>\n",
       "      <td>470862.000000</td>\n",
       "      <td>7.693074e+08</td>\n",
       "      <td>6.704287e+08</td>\n",
       "      <td>64240.000000</td>\n",
       "      <td>1350.000000</td>\n",
       "      <td>28502.368970</td>\n",
       "      <td>15870.122980</td>\n",
       "      <td>48168.000000</td>\n",
       "      <td>1350.000000</td>\n",
       "      <td>9901.912706</td>\n",
       "      <td>11469.193480</td>\n",
       "      <td>inf</td>\n",
       "      <td>inf</td>\n",
       "      <td>1.199856e+08</td>\n",
       "      <td>8.477462e+07</td>\n",
       "      <td>1.199994e+08</td>\n",
       "      <td>1.199856e+08</td>\n",
       "      <td>1.200000e+08</td>\n",
       "      <td>1.199997e+08</td>\n",
       "      <td>8.483684e+07</td>\n",
       "      <td>1.199997e+08</td>\n",
       "      <td>1.199997e+08</td>\n",
       "      <td>1.200000e+08</td>\n",
       "      <td>1.198065e+08</td>\n",
       "      <td>8.480719e+07</td>\n",
       "      <td>1.199657e+08</td>\n",
       "      <td>1.198065e+08</td>\n",
       "      <td>1.000000</td>\n",
       "      <td>0.0</td>\n",
       "      <td>0.0</td>\n",
       "      <td>0.0</td>\n",
       "      <td>4.768644e+06</td>\n",
       "      <td>9.417240e+06</td>\n",
       "      <td>2.000000e+06</td>\n",
       "      <td>1000000.000000</td>\n",
       "      <td>1350.000000</td>\n",
       "      <td>64240.000000</td>\n",
       "      <td>6647.070671</td>\n",
       "      <td>12617.095490</td>\n",
       "      <td>1.591911e+08</td>\n",
       "      <td>2.000000</td>\n",
       "      <td>7.000000</td>\n",
       "      <td>71.000000</td>\n",
       "      <td>48025.000000</td>\n",
       "      <td>709023.000000</td>\n",
       "      <td>0.0</td>\n",
       "      <td>0.0</td>\n",
       "      <td>0.0</td>\n",
       "      <td>4266.000000</td>\n",
       "      <td>6647.188377</td>\n",
       "      <td>28502.368970</td>\n",
       "      <td>9901.912706</td>\n",
       "      <td>0.0</td>\n",
       "      <td>0.0</td>\n",
       "      <td>0.0</td>\n",
       "      <td>0.0</td>\n",
       "      <td>470862.000000</td>\n",
       "      <td>1.515741e+08</td>\n",
       "      <td>1.000000</td>\n",
       "      <td>6644.000000</td>\n",
       "      <td>0.0</td>\n",
       "      <td>4872.000000</td>\n",
       "      <td>65535.000000</td>\n",
       "      <td>65535.000000</td>\n",
       "      <td>113325.000000</td>\n",
       "      <td>44.000000</td>\n",
       "      <td>0.0</td>\n",
       "      <td>0.0</td>\n",
       "      <td>0.0</td>\n",
       "      <td>0.0</td>\n",
       "      <td>1.460000e+15</td>\n",
       "      <td>1.030000e+15</td>\n",
       "      <td>1.460000e+15</td>\n",
       "      <td>1.460000e+15</td>\n",
       "    </tr>\n",
       "  </tbody>\n",
       "</table>\n",
       "</div>"
      ],
      "text/plain": [
       "            src_port       dst_port       protocol  flow_duration  \\\n",
       "count  141530.000000  141530.000000  141530.000000   1.415300e+05   \n",
       "mean    38450.268819   18124.647333      10.350427   2.081280e+07   \n",
       "std     19124.801990   22202.197159       5.431807   3.809155e+07   \n",
       "min         0.000000       0.000000       0.000000   0.000000e+00   \n",
       "25%     32425.500000      80.000000       6.000000   1.778100e+04   \n",
       "50%     43528.000000    5355.000000       6.000000   4.162820e+05   \n",
       "75%     53338.000000   40020.000000      17.000000   1.181470e+07   \n",
       "max     65534.000000   65535.000000      17.000000   1.200000e+08   \n",
       "\n",
       "       total_fwd_packet  total_bwd_packets  total_length_of_fwd_packet  \\\n",
       "count     141530.000000      141530.000000                1.415300e+05   \n",
       "mean         152.800749         154.642062                1.126211e+05   \n",
       "std         2378.323352        3418.715287                3.251357e+06   \n",
       "min            1.000000           0.000000                0.000000e+00   \n",
       "25%            1.000000           0.000000                0.000000e+00   \n",
       "50%            2.000000           1.000000                4.400000e+01   \n",
       "75%            4.000000           3.000000                2.160000e+02   \n",
       "max       238161.000000      470862.000000                7.693074e+08   \n",
       "\n",
       "       total_length_of_bwd_packet  fwd_packet_length_max  \\\n",
       "count                1.415300e+05          141530.000000   \n",
       "mean                 1.304530e+05             208.920420   \n",
       "std                  4.566180e+06             649.432333   \n",
       "min                  0.000000e+00               0.000000   \n",
       "25%                  0.000000e+00               0.000000   \n",
       "50%                  0.000000e+00              34.000000   \n",
       "75%                  2.160000e+02             103.000000   \n",
       "max                  6.704287e+08           64240.000000   \n",
       "\n",
       "       fwd_packet_length_min  fwd_packet_length_mean  fwd_packet_length_std  \\\n",
       "count          141530.000000           141530.000000          141530.000000   \n",
       "mean               15.617078               69.594959              63.974203   \n",
       "std                31.312298              219.965954             168.646012   \n",
       "min                 0.000000                0.000000               0.000000   \n",
       "25%                 0.000000                0.000000               0.000000   \n",
       "50%                 0.000000               22.666667               0.000000   \n",
       "75%                31.000000               45.000000              39.259818   \n",
       "max              1350.000000            28502.368970           15870.122980   \n",
       "\n",
       "       bwd_packet_length_max  bwd_packet_length_min  bwd_packet_length_mean  \\\n",
       "count          141530.000000          141530.000000           141530.000000   \n",
       "mean              229.971299              41.252194              107.286657   \n",
       "std               786.736861             100.785013              240.511916   \n",
       "min                 0.000000               0.000000                0.000000   \n",
       "25%                 0.000000               0.000000                0.000000   \n",
       "50%                 0.000000               0.000000                0.000000   \n",
       "75%               213.000000               0.000000               96.969207   \n",
       "max             48168.000000            1350.000000             9901.912706   \n",
       "\n",
       "       bwd_packet_length_std  flow_bytes/s  flow_packets/s  flow_iat_mean  \\\n",
       "count          141530.000000  1.414830e+05    1.415300e+05   1.415300e+05   \n",
       "mean               65.183434           inf             inf   2.604871e+06   \n",
       "std               193.995126           NaN             NaN   7.124917e+06   \n",
       "min                 0.000000  0.000000e+00    1.666866e-02   0.000000e+00   \n",
       "25%                 0.000000  0.000000e+00    6.411654e-01   3.021500e+03   \n",
       "50%                 0.000000  7.407686e+01    7.296616e+00   2.071620e+05   \n",
       "75%                11.313709  9.908260e+02    4.006812e+02   1.882400e+06   \n",
       "max             11469.193480           inf             inf   1.199856e+08   \n",
       "\n",
       "       flow_iat_std  flow_iat_max  flow_iat_min  fwd_iat_total  fwd_iat_mean  \\\n",
       "count  1.415300e+05  1.415300e+05  1.415300e+05   1.415300e+05  1.415300e+05   \n",
       "mean   3.217701e+06  9.893961e+06  9.079030e+05   1.976846e+07  4.101510e+06   \n",
       "std    7.753864e+06  1.968518e+07  5.665210e+06   3.765663e+07  1.145549e+07   \n",
       "min    0.000000e+00  0.000000e+00 -2.255000e+03   0.000000e+00  0.000000e+00   \n",
       "25%    0.000000e+00  1.690825e+04  1.600000e+01   0.000000e+00  0.000000e+00   \n",
       "50%    1.297621e+04  4.114095e+05  1.660000e+02   2.476785e+05  6.889431e+04   \n",
       "75%    2.213250e+06  7.210274e+06  1.291208e+05   9.743915e+06  2.682830e+06   \n",
       "max    8.477462e+07  1.199994e+08  1.199856e+08   1.200000e+08  1.199997e+08   \n",
       "\n",
       "        fwd_iat_std   fwd_iat_max   fwd_iat_min  bwd_iat_total  bwd_iat_mean  \\\n",
       "count  1.415300e+05  1.415300e+05  1.415300e+05   1.415300e+05  1.415300e+05   \n",
       "mean   2.590150e+06  9.198071e+06  2.481004e+06   1.663278e+07  3.054588e+06   \n",
       "std    7.138834e+06  1.921286e+07  1.049675e+07   3.590770e+07  1.036402e+07   \n",
       "min    0.000000e+00  0.000000e+00 -4.580000e+02   0.000000e+00  0.000000e+00   \n",
       "25%    0.000000e+00  0.000000e+00  0.000000e+00   0.000000e+00  0.000000e+00   \n",
       "50%    0.000000e+00  1.932950e+05  7.100000e+01   0.000000e+00  0.000000e+00   \n",
       "75%    1.436683e+06  6.323130e+06  1.024112e+05   1.321916e+06  1.860442e+05   \n",
       "max    8.483684e+07  1.199997e+08  1.199997e+08   1.200000e+08  1.198065e+08   \n",
       "\n",
       "        bwd_iat_std   bwd_iat_max   bwd_iat_min  fwd_psh_flags  bwd_psh_flags  \\\n",
       "count  1.415300e+05  1.415300e+05  1.415300e+05  141530.000000       141530.0   \n",
       "mean   2.205417e+06  7.408141e+06  1.617510e+06       0.099562            0.0   \n",
       "std    6.824438e+06  1.801633e+07  9.098340e+06       0.299416            0.0   \n",
       "min    0.000000e+00  0.000000e+00 -4.450000e+02       0.000000            0.0   \n",
       "25%    0.000000e+00  0.000000e+00  0.000000e+00       0.000000            0.0   \n",
       "50%    0.000000e+00  0.000000e+00  0.000000e+00       0.000000            0.0   \n",
       "75%    4.591965e+04  7.335540e+05  3.400000e+01       0.000000            0.0   \n",
       "max    8.480719e+07  1.199657e+08  1.198065e+08       1.000000            0.0   \n",
       "\n",
       "       fwd_urg_flags  bwd_urg_flags  fwd_header_length  bwd_header_length  \\\n",
       "count       141530.0       141530.0       1.415300e+05       1.415300e+05   \n",
       "mean             0.0            0.0       2.933009e+03       3.099272e+03   \n",
       "std              0.0            0.0       4.752686e+04       6.995175e+04   \n",
       "min              0.0            0.0       0.000000e+00       0.000000e+00   \n",
       "25%              0.0            0.0       1.600000e+01       0.000000e+00   \n",
       "50%              0.0            0.0       4.000000e+01       1.600000e+01   \n",
       "75%              0.0            0.0       9.200000e+01       7.200000e+01   \n",
       "max              0.0            0.0       4.768644e+06       9.417240e+06   \n",
       "\n",
       "       fwd_packets/s   bwd_packets/s  packet_length_min  packet_length_max  \\\n",
       "count   1.415300e+05   141530.000000      141530.000000      141530.000000   \n",
       "mean    6.321814e+03     4574.665230          14.365604         323.627316   \n",
       "std     3.558899e+04    21380.969146          23.951595         966.025271   \n",
       "min     0.000000e+00        0.000000           0.000000           0.000000   \n",
       "25%     3.798137e-01        0.000000           0.000000           0.000000   \n",
       "50%     4.869865e+00        0.713498           0.000000          59.000000   \n",
       "75%     2.807026e+02       37.106760          29.000000         345.000000   \n",
       "max     2.000000e+06  1000000.000000        1350.000000       64240.000000   \n",
       "\n",
       "       packet_length_mean  packet_length_std  packet_length_variance  \\\n",
       "count       141530.000000      141530.000000            1.415300e+05   \n",
       "mean            94.373958         108.474093            5.488104e+04   \n",
       "std            190.563975         207.640840            7.933552e+05   \n",
       "min              0.000000           0.000000            0.000000e+00   \n",
       "25%              0.000000           0.000000            0.000000e+00   \n",
       "50%             28.363636           9.237604            8.533333e+01   \n",
       "75%             95.837366         118.472453            1.403572e+04   \n",
       "max           6647.070671       12617.095490            1.591911e+08   \n",
       "\n",
       "       fin_flag_count  syn_flag_count  rst_flag_count  psh_flag_count  \\\n",
       "count   141530.000000   141530.000000   141530.000000   141530.000000   \n",
       "mean         0.455691        0.462284        0.038571       61.523168   \n",
       "std          0.556133        0.844423        0.342543      807.239077   \n",
       "min          0.000000        0.000000        0.000000        0.000000   \n",
       "25%          0.000000        0.000000        0.000000        0.000000   \n",
       "50%          0.000000        0.000000        0.000000        0.000000   \n",
       "75%          1.000000        0.000000        0.000000        2.000000   \n",
       "max          2.000000        7.000000       71.000000    48025.000000   \n",
       "\n",
       "       ack_flag_count  urg_flag_count  cwe_flag_count  ece_flag_count  \\\n",
       "count   141530.000000        141530.0        141530.0        141530.0   \n",
       "mean       268.251749             0.0             0.0             0.0   \n",
       "std       5342.816116             0.0             0.0             0.0   \n",
       "min          0.000000             0.0             0.0             0.0   \n",
       "25%          0.000000             0.0             0.0             0.0   \n",
       "50%          2.000000             0.0             0.0             0.0   \n",
       "75%          6.000000             0.0             0.0             0.0   \n",
       "max     709023.000000             0.0             0.0             0.0   \n",
       "\n",
       "       down/up_ratio  average_packet_size  fwd_segment_size_avg  \\\n",
       "count  141530.000000        141530.000000         141530.000000   \n",
       "mean        0.607214           108.900008             69.594959   \n",
       "std        12.497544           197.306424            219.965954   \n",
       "min         0.000000             0.000000              0.000000   \n",
       "25%         0.000000             0.000000              0.000000   \n",
       "50%         1.000000            33.000000             22.666667   \n",
       "75%         1.000000           141.783730             45.000000   \n",
       "max      4266.000000          6647.188377          28502.368970   \n",
       "\n",
       "       bwd_segment_size_avg  fwd_bytes/bulk_avg  fwd_packet/bulk_avg  \\\n",
       "count         141530.000000            141530.0             141530.0   \n",
       "mean             107.286657                 0.0                  0.0   \n",
       "std              240.511916                 0.0                  0.0   \n",
       "min                0.000000                 0.0                  0.0   \n",
       "25%                0.000000                 0.0                  0.0   \n",
       "50%                0.000000                 0.0                  0.0   \n",
       "75%               96.969207                 0.0                  0.0   \n",
       "max             9901.912706                 0.0                  0.0   \n",
       "\n",
       "       fwd_bulk_rate_avg  bwd_bytes/bulk_avg  bwd_packet/bulk_avg  \\\n",
       "count           141530.0            141530.0        141530.000000   \n",
       "mean                 0.0                 0.0           158.869455   \n",
       "std                  0.0                 0.0          3042.371342   \n",
       "min                  0.0                 0.0             0.000000   \n",
       "25%                  0.0                 0.0             0.000000   \n",
       "50%                  0.0                 0.0             0.000000   \n",
       "75%                  0.0                 0.0             0.000000   \n",
       "max                  0.0                 0.0        470862.000000   \n",
       "\n",
       "       bwd_bulk_rate_avg  subflow_fwd_packets  subflow_fwd_bytes  \\\n",
       "count       1.415300e+05        141530.000000      141530.000000   \n",
       "mean        4.521801e+04             0.286745          43.128022   \n",
       "std         1.046669e+06             0.452243         137.725733   \n",
       "min         0.000000e+00             0.000000           0.000000   \n",
       "25%         0.000000e+00             0.000000           0.000000   \n",
       "50%         0.000000e+00             0.000000          18.000000   \n",
       "75%         0.000000e+00             1.000000          23.000000   \n",
       "max         1.515741e+08             1.000000        6644.000000   \n",
       "\n",
       "       subflow_bwd_packets  subflow_bwd_bytes  fwd_init_win_bytes  \\\n",
       "count             141530.0      141530.000000       141530.000000   \n",
       "mean                   0.0          55.488568         5308.189670   \n",
       "std                    0.0         134.367698         9895.622577   \n",
       "min                    0.0           0.000000            0.000000   \n",
       "25%                    0.0           0.000000            0.000000   \n",
       "50%                    0.0           0.000000          913.000000   \n",
       "75%                    0.0          47.000000        14348.000000   \n",
       "max                    0.0        4872.000000        65535.000000   \n",
       "\n",
       "       bwd_init_win_bytes  fwd_act_data_pkts  fwd_seg_size_min  active_mean  \\\n",
       "count       141530.000000      141530.000000     141530.000000     141530.0   \n",
       "mean          1766.762411          96.881573         15.808182          0.0   \n",
       "std           7563.995687        1582.814902          7.110714          0.0   \n",
       "min              0.000000           0.000000          0.000000          0.0   \n",
       "25%              0.000000           0.000000          8.000000          0.0   \n",
       "50%              0.000000           1.000000         20.000000          0.0   \n",
       "75%           1047.000000           2.000000         20.000000          0.0   \n",
       "max          65535.000000      113325.000000         44.000000          0.0   \n",
       "\n",
       "       active_std  active_max  active_min     idle_mean      idle_std  \\\n",
       "count    141530.0    141530.0    141530.0  1.415300e+05  1.415300e+05   \n",
       "mean          0.0         0.0         0.0  7.028030e+14  5.526137e+13   \n",
       "std           0.0         0.0         0.0  7.058710e+14  1.930165e+14   \n",
       "min           0.0         0.0         0.0  0.000000e+00  0.000000e+00   \n",
       "25%           0.0         0.0         0.0  0.000000e+00  0.000000e+00   \n",
       "50%           0.0         0.0         0.0  7.281250e+14  0.000000e+00   \n",
       "75%           0.0         0.0         0.0  1.456260e+15  1.031457e+07   \n",
       "max           0.0         0.0         0.0  1.460000e+15  1.030000e+15   \n",
       "\n",
       "           idle_max      idle_min  \n",
       "count  1.415300e+05  1.415300e+05  \n",
       "mean   7.305885e+14  5.994078e+14  \n",
       "std    7.248202e+14  7.138287e+14  \n",
       "min    0.000000e+00  0.000000e+00  \n",
       "25%    0.000000e+00  0.000000e+00  \n",
       "50%    1.427730e+15  5.584614e+06  \n",
       "75%    1.456320e+15  1.456260e+15  \n",
       "max    1.460000e+15  1.460000e+15  "
      ]
     },
     "execution_count": 43,
     "metadata": {},
     "output_type": "execute_result"
    }
   ],
   "source": [
    "pd.set_option('display.max_columns', None)\n",
    "df.describe()"
   ]
  },
  {
   "cell_type": "markdown",
   "metadata": {},
   "source": [
    "### Remoção de NaN e Inf"
   ]
  },
  {
   "cell_type": "code",
   "execution_count": 170,
   "metadata": {},
   "outputs": [
    {
     "data": {
      "text/plain": [
       "(0, 85)"
      ]
     },
     "execution_count": 170,
     "metadata": {},
     "output_type": "execute_result"
    }
   ],
   "source": [
    "df[\n",
    "    (df['flow_packets/s'] == np.inf) | (df['flow_bytes/s'] == np.inf) | (df['flow_bytes/s'] == np.nan)\n",
    "].shape"
   ]
  },
  {
   "cell_type": "code",
   "execution_count": 45,
   "metadata": {},
   "outputs": [
    {
     "data": {
      "text/html": [
       "<div>\n",
       "<style scoped>\n",
       "    .dataframe tbody tr th:only-of-type {\n",
       "        vertical-align: middle;\n",
       "    }\n",
       "\n",
       "    .dataframe tbody tr th {\n",
       "        vertical-align: top;\n",
       "    }\n",
       "\n",
       "    .dataframe thead th {\n",
       "        text-align: right;\n",
       "    }\n",
       "</style>\n",
       "<table border=\"1\" class=\"dataframe\">\n",
       "  <thead>\n",
       "    <tr style=\"text-align: right;\">\n",
       "      <th></th>\n",
       "      <th>src_port</th>\n",
       "      <th>dst_port</th>\n",
       "      <th>protocol</th>\n",
       "      <th>flow_duration</th>\n",
       "      <th>total_fwd_packet</th>\n",
       "      <th>total_bwd_packets</th>\n",
       "      <th>total_length_of_fwd_packet</th>\n",
       "      <th>total_length_of_bwd_packet</th>\n",
       "      <th>fwd_packet_length_max</th>\n",
       "      <th>fwd_packet_length_min</th>\n",
       "      <th>fwd_packet_length_mean</th>\n",
       "      <th>fwd_packet_length_std</th>\n",
       "      <th>bwd_packet_length_max</th>\n",
       "      <th>bwd_packet_length_min</th>\n",
       "      <th>bwd_packet_length_mean</th>\n",
       "      <th>bwd_packet_length_std</th>\n",
       "      <th>flow_bytes/s</th>\n",
       "      <th>flow_packets/s</th>\n",
       "      <th>flow_iat_mean</th>\n",
       "      <th>flow_iat_std</th>\n",
       "      <th>flow_iat_max</th>\n",
       "      <th>flow_iat_min</th>\n",
       "      <th>fwd_iat_total</th>\n",
       "      <th>fwd_iat_mean</th>\n",
       "      <th>fwd_iat_std</th>\n",
       "      <th>fwd_iat_max</th>\n",
       "      <th>fwd_iat_min</th>\n",
       "      <th>bwd_iat_total</th>\n",
       "      <th>bwd_iat_mean</th>\n",
       "      <th>bwd_iat_std</th>\n",
       "      <th>bwd_iat_max</th>\n",
       "      <th>bwd_iat_min</th>\n",
       "      <th>fwd_psh_flags</th>\n",
       "      <th>bwd_psh_flags</th>\n",
       "      <th>fwd_urg_flags</th>\n",
       "      <th>bwd_urg_flags</th>\n",
       "      <th>fwd_header_length</th>\n",
       "      <th>bwd_header_length</th>\n",
       "      <th>fwd_packets/s</th>\n",
       "      <th>bwd_packets/s</th>\n",
       "      <th>packet_length_min</th>\n",
       "      <th>packet_length_max</th>\n",
       "      <th>packet_length_mean</th>\n",
       "      <th>packet_length_std</th>\n",
       "      <th>packet_length_variance</th>\n",
       "      <th>fin_flag_count</th>\n",
       "      <th>syn_flag_count</th>\n",
       "      <th>rst_flag_count</th>\n",
       "      <th>psh_flag_count</th>\n",
       "      <th>ack_flag_count</th>\n",
       "      <th>urg_flag_count</th>\n",
       "      <th>cwe_flag_count</th>\n",
       "      <th>ece_flag_count</th>\n",
       "      <th>down/up_ratio</th>\n",
       "      <th>average_packet_size</th>\n",
       "      <th>fwd_segment_size_avg</th>\n",
       "      <th>bwd_segment_size_avg</th>\n",
       "      <th>fwd_bytes/bulk_avg</th>\n",
       "      <th>fwd_packet/bulk_avg</th>\n",
       "      <th>fwd_bulk_rate_avg</th>\n",
       "      <th>bwd_bytes/bulk_avg</th>\n",
       "      <th>bwd_packet/bulk_avg</th>\n",
       "      <th>bwd_bulk_rate_avg</th>\n",
       "      <th>subflow_fwd_packets</th>\n",
       "      <th>subflow_fwd_bytes</th>\n",
       "      <th>subflow_bwd_packets</th>\n",
       "      <th>subflow_bwd_bytes</th>\n",
       "      <th>fwd_init_win_bytes</th>\n",
       "      <th>bwd_init_win_bytes</th>\n",
       "      <th>fwd_act_data_pkts</th>\n",
       "      <th>fwd_seg_size_min</th>\n",
       "      <th>active_mean</th>\n",
       "      <th>active_std</th>\n",
       "      <th>active_max</th>\n",
       "      <th>active_min</th>\n",
       "      <th>idle_mean</th>\n",
       "      <th>idle_std</th>\n",
       "      <th>idle_max</th>\n",
       "      <th>idle_min</th>\n",
       "    </tr>\n",
       "  </thead>\n",
       "  <tbody>\n",
       "    <tr>\n",
       "      <th>count</th>\n",
       "      <td>141481.000000</td>\n",
       "      <td>141481.000000</td>\n",
       "      <td>141481.000000</td>\n",
       "      <td>1.414810e+05</td>\n",
       "      <td>141481.000000</td>\n",
       "      <td>141481.000000</td>\n",
       "      <td>1.414810e+05</td>\n",
       "      <td>1.414810e+05</td>\n",
       "      <td>141481.000000</td>\n",
       "      <td>141481.000000</td>\n",
       "      <td>141481.000000</td>\n",
       "      <td>141481.000000</td>\n",
       "      <td>141481.000000</td>\n",
       "      <td>141481.000000</td>\n",
       "      <td>141481.000000</td>\n",
       "      <td>141481.000000</td>\n",
       "      <td>1.414810e+05</td>\n",
       "      <td>1.414810e+05</td>\n",
       "      <td>1.414810e+05</td>\n",
       "      <td>1.414810e+05</td>\n",
       "      <td>1.414810e+05</td>\n",
       "      <td>1.414810e+05</td>\n",
       "      <td>1.414810e+05</td>\n",
       "      <td>1.414810e+05</td>\n",
       "      <td>1.414810e+05</td>\n",
       "      <td>1.414810e+05</td>\n",
       "      <td>1.414810e+05</td>\n",
       "      <td>1.414810e+05</td>\n",
       "      <td>1.414810e+05</td>\n",
       "      <td>1.414810e+05</td>\n",
       "      <td>1.414810e+05</td>\n",
       "      <td>1.414810e+05</td>\n",
       "      <td>141481.000000</td>\n",
       "      <td>141481.0</td>\n",
       "      <td>141481.0</td>\n",
       "      <td>141481.0</td>\n",
       "      <td>1.414810e+05</td>\n",
       "      <td>1.414810e+05</td>\n",
       "      <td>1.414810e+05</td>\n",
       "      <td>141481.000000</td>\n",
       "      <td>141481.00000</td>\n",
       "      <td>141481.000000</td>\n",
       "      <td>141481.000000</td>\n",
       "      <td>141481.000000</td>\n",
       "      <td>1.414810e+05</td>\n",
       "      <td>141481.000000</td>\n",
       "      <td>141481.000000</td>\n",
       "      <td>141481.000000</td>\n",
       "      <td>141481.000000</td>\n",
       "      <td>141481.000000</td>\n",
       "      <td>141481.0</td>\n",
       "      <td>141481.0</td>\n",
       "      <td>141481.0</td>\n",
       "      <td>141481.000000</td>\n",
       "      <td>141481.000000</td>\n",
       "      <td>141481.000000</td>\n",
       "      <td>141481.000000</td>\n",
       "      <td>141481.0</td>\n",
       "      <td>141481.0</td>\n",
       "      <td>141481.0</td>\n",
       "      <td>141481.0</td>\n",
       "      <td>141481.000000</td>\n",
       "      <td>1.414810e+05</td>\n",
       "      <td>141481.000000</td>\n",
       "      <td>141481.000000</td>\n",
       "      <td>141481.0</td>\n",
       "      <td>141481.000000</td>\n",
       "      <td>141481.000000</td>\n",
       "      <td>141481.000000</td>\n",
       "      <td>141481.000000</td>\n",
       "      <td>141481.000000</td>\n",
       "      <td>141481.0</td>\n",
       "      <td>141481.0</td>\n",
       "      <td>141481.0</td>\n",
       "      <td>141481.0</td>\n",
       "      <td>1.414810e+05</td>\n",
       "      <td>1.414810e+05</td>\n",
       "      <td>1.414810e+05</td>\n",
       "      <td>1.414810e+05</td>\n",
       "    </tr>\n",
       "    <tr>\n",
       "      <th>mean</th>\n",
       "      <td>38461.671044</td>\n",
       "      <td>18114.742651</td>\n",
       "      <td>10.351934</td>\n",
       "      <td>2.082001e+07</td>\n",
       "      <td>152.853238</td>\n",
       "      <td>154.695358</td>\n",
       "      <td>1.126601e+05</td>\n",
       "      <td>1.304982e+05</td>\n",
       "      <td>208.992183</td>\n",
       "      <td>15.622112</td>\n",
       "      <td>69.618578</td>\n",
       "      <td>63.996204</td>\n",
       "      <td>230.050947</td>\n",
       "      <td>41.266481</td>\n",
       "      <td>107.323814</td>\n",
       "      <td>65.206009</td>\n",
       "      <td>8.511509e+04</td>\n",
       "      <td>1.090025e+04</td>\n",
       "      <td>2.605773e+06</td>\n",
       "      <td>3.218815e+06</td>\n",
       "      <td>9.897388e+06</td>\n",
       "      <td>9.082174e+05</td>\n",
       "      <td>1.977531e+07</td>\n",
       "      <td>4.102931e+06</td>\n",
       "      <td>2.591047e+06</td>\n",
       "      <td>9.201257e+06</td>\n",
       "      <td>2.481863e+06</td>\n",
       "      <td>1.663854e+07</td>\n",
       "      <td>3.055646e+06</td>\n",
       "      <td>2.206181e+06</td>\n",
       "      <td>7.410707e+06</td>\n",
       "      <td>1.618070e+06</td>\n",
       "      <td>0.099582</td>\n",
       "      <td>0.0</td>\n",
       "      <td>0.0</td>\n",
       "      <td>0.0</td>\n",
       "      <td>2.934016e+03</td>\n",
       "      <td>3.100340e+03</td>\n",
       "      <td>6.324003e+03</td>\n",
       "      <td>4576.249602</td>\n",
       "      <td>14.37058</td>\n",
       "      <td>323.738806</td>\n",
       "      <td>94.406247</td>\n",
       "      <td>108.511319</td>\n",
       "      <td>5.490004e+04</td>\n",
       "      <td>0.455524</td>\n",
       "      <td>0.462444</td>\n",
       "      <td>0.038542</td>\n",
       "      <td>61.544462</td>\n",
       "      <td>268.344004</td>\n",
       "      <td>0.0</td>\n",
       "      <td>0.0</td>\n",
       "      <td>0.0</td>\n",
       "      <td>0.607163</td>\n",
       "      <td>108.937130</td>\n",
       "      <td>69.618578</td>\n",
       "      <td>107.323814</td>\n",
       "      <td>0.0</td>\n",
       "      <td>0.0</td>\n",
       "      <td>0.0</td>\n",
       "      <td>0.0</td>\n",
       "      <td>158.924477</td>\n",
       "      <td>4.523367e+04</td>\n",
       "      <td>0.286759</td>\n",
       "      <td>43.142669</td>\n",
       "      <td>0.0</td>\n",
       "      <td>55.507785</td>\n",
       "      <td>5309.368869</td>\n",
       "      <td>1766.743450</td>\n",
       "      <td>96.915126</td>\n",
       "      <td>15.806730</td>\n",
       "      <td>0.0</td>\n",
       "      <td>0.0</td>\n",
       "      <td>0.0</td>\n",
       "      <td>0.0</td>\n",
       "      <td>7.030464e+14</td>\n",
       "      <td>5.528051e+13</td>\n",
       "      <td>7.308415e+14</td>\n",
       "      <td>5.996154e+14</td>\n",
       "    </tr>\n",
       "    <tr>\n",
       "      <th>std</th>\n",
       "      <td>19117.036685</td>\n",
       "      <td>22198.047115</td>\n",
       "      <td>5.432144</td>\n",
       "      <td>3.809618e+07</td>\n",
       "      <td>2378.733496</td>\n",
       "      <td>3419.306053</td>\n",
       "      <td>3.251919e+06</td>\n",
       "      <td>4.566970e+06</td>\n",
       "      <td>649.533315</td>\n",
       "      <td>31.316241</td>\n",
       "      <td>220.000333</td>\n",
       "      <td>168.671059</td>\n",
       "      <td>786.861445</td>\n",
       "      <td>100.799540</td>\n",
       "      <td>240.545273</td>\n",
       "      <td>194.024924</td>\n",
       "      <td>1.253105e+06</td>\n",
       "      <td>5.140726e+04</td>\n",
       "      <td>7.125986e+06</td>\n",
       "      <td>7.754975e+06</td>\n",
       "      <td>1.968772e+07</td>\n",
       "      <td>5.666166e+06</td>\n",
       "      <td>3.766135e+07</td>\n",
       "      <td>1.145722e+07</td>\n",
       "      <td>7.139907e+06</td>\n",
       "      <td>1.921542e+07</td>\n",
       "      <td>1.049847e+07</td>\n",
       "      <td>3.591258e+07</td>\n",
       "      <td>1.036566e+07</td>\n",
       "      <td>6.825496e+06</td>\n",
       "      <td>1.801892e+07</td>\n",
       "      <td>9.099865e+06</td>\n",
       "      <td>0.299443</td>\n",
       "      <td>0.0</td>\n",
       "      <td>0.0</td>\n",
       "      <td>0.0</td>\n",
       "      <td>4.753506e+04</td>\n",
       "      <td>6.996384e+04</td>\n",
       "      <td>3.559496e+04</td>\n",
       "      <td>21384.501827</td>\n",
       "      <td>23.95425</td>\n",
       "      <td>966.173949</td>\n",
       "      <td>190.589042</td>\n",
       "      <td>207.667136</td>\n",
       "      <td>7.934920e+05</td>\n",
       "      <td>0.556139</td>\n",
       "      <td>0.844525</td>\n",
       "      <td>0.342483</td>\n",
       "      <td>807.378043</td>\n",
       "      <td>5343.738947</td>\n",
       "      <td>0.0</td>\n",
       "      <td>0.0</td>\n",
       "      <td>0.0</td>\n",
       "      <td>12.499705</td>\n",
       "      <td>197.330438</td>\n",
       "      <td>220.000333</td>\n",
       "      <td>240.545273</td>\n",
       "      <td>0.0</td>\n",
       "      <td>0.0</td>\n",
       "      <td>0.0</td>\n",
       "      <td>0.0</td>\n",
       "      <td>3042.896705</td>\n",
       "      <td>1.046850e+06</td>\n",
       "      <td>0.452250</td>\n",
       "      <td>137.747309</td>\n",
       "      <td>0.0</td>\n",
       "      <td>134.386995</td>\n",
       "      <td>9896.763688</td>\n",
       "      <td>7565.024908</td>\n",
       "      <td>1583.087946</td>\n",
       "      <td>7.111517</td>\n",
       "      <td>0.0</td>\n",
       "      <td>0.0</td>\n",
       "      <td>0.0</td>\n",
       "      <td>0.0</td>\n",
       "      <td>7.058720e+14</td>\n",
       "      <td>1.930472e+14</td>\n",
       "      <td>7.248181e+14</td>\n",
       "      <td>7.138651e+14</td>\n",
       "    </tr>\n",
       "    <tr>\n",
       "      <th>min</th>\n",
       "      <td>0.000000</td>\n",
       "      <td>0.000000</td>\n",
       "      <td>0.000000</td>\n",
       "      <td>1.000000e+00</td>\n",
       "      <td>1.000000</td>\n",
       "      <td>0.000000</td>\n",
       "      <td>0.000000e+00</td>\n",
       "      <td>0.000000e+00</td>\n",
       "      <td>0.000000</td>\n",
       "      <td>0.000000</td>\n",
       "      <td>0.000000</td>\n",
       "      <td>0.000000</td>\n",
       "      <td>0.000000</td>\n",
       "      <td>0.000000</td>\n",
       "      <td>0.000000</td>\n",
       "      <td>0.000000</td>\n",
       "      <td>0.000000e+00</td>\n",
       "      <td>1.666866e-02</td>\n",
       "      <td>5.000000e-01</td>\n",
       "      <td>0.000000e+00</td>\n",
       "      <td>1.000000e+00</td>\n",
       "      <td>-2.255000e+03</td>\n",
       "      <td>0.000000e+00</td>\n",
       "      <td>0.000000e+00</td>\n",
       "      <td>0.000000e+00</td>\n",
       "      <td>0.000000e+00</td>\n",
       "      <td>-4.580000e+02</td>\n",
       "      <td>0.000000e+00</td>\n",
       "      <td>0.000000e+00</td>\n",
       "      <td>0.000000e+00</td>\n",
       "      <td>0.000000e+00</td>\n",
       "      <td>-4.450000e+02</td>\n",
       "      <td>0.000000</td>\n",
       "      <td>0.0</td>\n",
       "      <td>0.0</td>\n",
       "      <td>0.0</td>\n",
       "      <td>0.000000e+00</td>\n",
       "      <td>0.000000e+00</td>\n",
       "      <td>8.417126e-03</td>\n",
       "      <td>0.000000</td>\n",
       "      <td>0.00000</td>\n",
       "      <td>0.000000</td>\n",
       "      <td>0.000000</td>\n",
       "      <td>0.000000</td>\n",
       "      <td>0.000000e+00</td>\n",
       "      <td>0.000000</td>\n",
       "      <td>0.000000</td>\n",
       "      <td>0.000000</td>\n",
       "      <td>0.000000</td>\n",
       "      <td>0.000000</td>\n",
       "      <td>0.0</td>\n",
       "      <td>0.0</td>\n",
       "      <td>0.0</td>\n",
       "      <td>0.000000</td>\n",
       "      <td>0.000000</td>\n",
       "      <td>0.000000</td>\n",
       "      <td>0.000000</td>\n",
       "      <td>0.0</td>\n",
       "      <td>0.0</td>\n",
       "      <td>0.0</td>\n",
       "      <td>0.0</td>\n",
       "      <td>0.000000</td>\n",
       "      <td>0.000000e+00</td>\n",
       "      <td>0.000000</td>\n",
       "      <td>0.000000</td>\n",
       "      <td>0.0</td>\n",
       "      <td>0.000000</td>\n",
       "      <td>0.000000</td>\n",
       "      <td>0.000000</td>\n",
       "      <td>0.000000</td>\n",
       "      <td>0.000000</td>\n",
       "      <td>0.0</td>\n",
       "      <td>0.0</td>\n",
       "      <td>0.0</td>\n",
       "      <td>0.0</td>\n",
       "      <td>0.000000e+00</td>\n",
       "      <td>0.000000e+00</td>\n",
       "      <td>0.000000e+00</td>\n",
       "      <td>0.000000e+00</td>\n",
       "    </tr>\n",
       "    <tr>\n",
       "      <th>25%</th>\n",
       "      <td>32504.000000</td>\n",
       "      <td>80.000000</td>\n",
       "      <td>6.000000</td>\n",
       "      <td>1.820100e+04</td>\n",
       "      <td>1.000000</td>\n",
       "      <td>0.000000</td>\n",
       "      <td>0.000000e+00</td>\n",
       "      <td>0.000000e+00</td>\n",
       "      <td>0.000000</td>\n",
       "      <td>0.000000</td>\n",
       "      <td>0.000000</td>\n",
       "      <td>0.000000</td>\n",
       "      <td>0.000000</td>\n",
       "      <td>0.000000</td>\n",
       "      <td>0.000000</td>\n",
       "      <td>0.000000</td>\n",
       "      <td>0.000000e+00</td>\n",
       "      <td>6.403407e-01</td>\n",
       "      <td>3.081000e+03</td>\n",
       "      <td>0.000000e+00</td>\n",
       "      <td>1.712700e+04</td>\n",
       "      <td>1.600000e+01</td>\n",
       "      <td>0.000000e+00</td>\n",
       "      <td>0.000000e+00</td>\n",
       "      <td>0.000000e+00</td>\n",
       "      <td>0.000000e+00</td>\n",
       "      <td>0.000000e+00</td>\n",
       "      <td>0.000000e+00</td>\n",
       "      <td>0.000000e+00</td>\n",
       "      <td>0.000000e+00</td>\n",
       "      <td>0.000000e+00</td>\n",
       "      <td>0.000000e+00</td>\n",
       "      <td>0.000000</td>\n",
       "      <td>0.0</td>\n",
       "      <td>0.0</td>\n",
       "      <td>0.0</td>\n",
       "      <td>1.600000e+01</td>\n",
       "      <td>0.000000e+00</td>\n",
       "      <td>3.812351e-01</td>\n",
       "      <td>0.000000</td>\n",
       "      <td>0.00000</td>\n",
       "      <td>0.000000</td>\n",
       "      <td>0.000000</td>\n",
       "      <td>0.000000</td>\n",
       "      <td>0.000000e+00</td>\n",
       "      <td>0.000000</td>\n",
       "      <td>0.000000</td>\n",
       "      <td>0.000000</td>\n",
       "      <td>0.000000</td>\n",
       "      <td>0.000000</td>\n",
       "      <td>0.0</td>\n",
       "      <td>0.0</td>\n",
       "      <td>0.0</td>\n",
       "      <td>0.000000</td>\n",
       "      <td>0.000000</td>\n",
       "      <td>0.000000</td>\n",
       "      <td>0.000000</td>\n",
       "      <td>0.0</td>\n",
       "      <td>0.0</td>\n",
       "      <td>0.0</td>\n",
       "      <td>0.0</td>\n",
       "      <td>0.000000</td>\n",
       "      <td>0.000000e+00</td>\n",
       "      <td>0.000000</td>\n",
       "      <td>0.000000</td>\n",
       "      <td>0.0</td>\n",
       "      <td>0.000000</td>\n",
       "      <td>0.000000</td>\n",
       "      <td>0.000000</td>\n",
       "      <td>0.000000</td>\n",
       "      <td>8.000000</td>\n",
       "      <td>0.0</td>\n",
       "      <td>0.0</td>\n",
       "      <td>0.0</td>\n",
       "      <td>0.0</td>\n",
       "      <td>0.000000e+00</td>\n",
       "      <td>0.000000e+00</td>\n",
       "      <td>0.000000e+00</td>\n",
       "      <td>0.000000e+00</td>\n",
       "    </tr>\n",
       "    <tr>\n",
       "      <th>50%</th>\n",
       "      <td>43533.000000</td>\n",
       "      <td>5355.000000</td>\n",
       "      <td>6.000000</td>\n",
       "      <td>4.164300e+05</td>\n",
       "      <td>2.000000</td>\n",
       "      <td>1.000000</td>\n",
       "      <td>4.400000e+01</td>\n",
       "      <td>0.000000e+00</td>\n",
       "      <td>34.000000</td>\n",
       "      <td>0.000000</td>\n",
       "      <td>22.666667</td>\n",
       "      <td>0.000000</td>\n",
       "      <td>0.000000</td>\n",
       "      <td>0.000000</td>\n",
       "      <td>0.000000</td>\n",
       "      <td>0.000000</td>\n",
       "      <td>7.407141e+01</td>\n",
       "      <td>7.288178e+00</td>\n",
       "      <td>2.075010e+05</td>\n",
       "      <td>1.309393e+04</td>\n",
       "      <td>4.114240e+05</td>\n",
       "      <td>1.660000e+02</td>\n",
       "      <td>2.492210e+05</td>\n",
       "      <td>6.939700e+04</td>\n",
       "      <td>0.000000e+00</td>\n",
       "      <td>1.945540e+05</td>\n",
       "      <td>7.100000e+01</td>\n",
       "      <td>0.000000e+00</td>\n",
       "      <td>0.000000e+00</td>\n",
       "      <td>0.000000e+00</td>\n",
       "      <td>0.000000e+00</td>\n",
       "      <td>0.000000e+00</td>\n",
       "      <td>0.000000</td>\n",
       "      <td>0.0</td>\n",
       "      <td>0.0</td>\n",
       "      <td>0.0</td>\n",
       "      <td>4.000000e+01</td>\n",
       "      <td>1.600000e+01</td>\n",
       "      <td>4.869972e+00</td>\n",
       "      <td>0.716889</td>\n",
       "      <td>0.00000</td>\n",
       "      <td>59.000000</td>\n",
       "      <td>28.533333</td>\n",
       "      <td>9.237604</td>\n",
       "      <td>8.533333e+01</td>\n",
       "      <td>0.000000</td>\n",
       "      <td>0.000000</td>\n",
       "      <td>0.000000</td>\n",
       "      <td>0.000000</td>\n",
       "      <td>2.000000</td>\n",
       "      <td>0.0</td>\n",
       "      <td>0.0</td>\n",
       "      <td>0.0</td>\n",
       "      <td>1.000000</td>\n",
       "      <td>33.000000</td>\n",
       "      <td>22.666667</td>\n",
       "      <td>0.000000</td>\n",
       "      <td>0.0</td>\n",
       "      <td>0.0</td>\n",
       "      <td>0.0</td>\n",
       "      <td>0.0</td>\n",
       "      <td>0.000000</td>\n",
       "      <td>0.000000e+00</td>\n",
       "      <td>0.000000</td>\n",
       "      <td>18.000000</td>\n",
       "      <td>0.0</td>\n",
       "      <td>0.000000</td>\n",
       "      <td>913.000000</td>\n",
       "      <td>0.000000</td>\n",
       "      <td>1.000000</td>\n",
       "      <td>20.000000</td>\n",
       "      <td>0.0</td>\n",
       "      <td>0.0</td>\n",
       "      <td>0.0</td>\n",
       "      <td>0.0</td>\n",
       "      <td>7.281250e+14</td>\n",
       "      <td>0.000000e+00</td>\n",
       "      <td>1.427730e+15</td>\n",
       "      <td>5.590757e+06</td>\n",
       "    </tr>\n",
       "    <tr>\n",
       "      <th>75%</th>\n",
       "      <td>53340.000000</td>\n",
       "      <td>40020.000000</td>\n",
       "      <td>17.000000</td>\n",
       "      <td>1.184129e+07</td>\n",
       "      <td>4.000000</td>\n",
       "      <td>3.000000</td>\n",
       "      <td>2.160000e+02</td>\n",
       "      <td>2.160000e+02</td>\n",
       "      <td>103.000000</td>\n",
       "      <td>31.000000</td>\n",
       "      <td>45.000000</td>\n",
       "      <td>39.259818</td>\n",
       "      <td>213.000000</td>\n",
       "      <td>0.000000</td>\n",
       "      <td>97.000000</td>\n",
       "      <td>11.313709</td>\n",
       "      <td>9.908225e+02</td>\n",
       "      <td>3.955696e+02</td>\n",
       "      <td>1.883009e+06</td>\n",
       "      <td>2.213898e+06</td>\n",
       "      <td>7.214673e+06</td>\n",
       "      <td>1.291380e+05</td>\n",
       "      <td>9.744837e+06</td>\n",
       "      <td>2.684940e+06</td>\n",
       "      <td>1.441870e+06</td>\n",
       "      <td>6.323235e+06</td>\n",
       "      <td>1.026550e+05</td>\n",
       "      <td>1.324026e+06</td>\n",
       "      <td>1.865572e+05</td>\n",
       "      <td>4.602841e+04</td>\n",
       "      <td>7.353500e+05</td>\n",
       "      <td>3.400000e+01</td>\n",
       "      <td>0.000000</td>\n",
       "      <td>0.0</td>\n",
       "      <td>0.0</td>\n",
       "      <td>0.0</td>\n",
       "      <td>9.200000e+01</td>\n",
       "      <td>7.200000e+01</td>\n",
       "      <td>2.825953e+02</td>\n",
       "      <td>37.256436</td>\n",
       "      <td>29.00000</td>\n",
       "      <td>345.000000</td>\n",
       "      <td>95.952381</td>\n",
       "      <td>118.666944</td>\n",
       "      <td>1.408184e+04</td>\n",
       "      <td>1.000000</td>\n",
       "      <td>0.000000</td>\n",
       "      <td>0.000000</td>\n",
       "      <td>2.000000</td>\n",
       "      <td>6.000000</td>\n",
       "      <td>0.0</td>\n",
       "      <td>0.0</td>\n",
       "      <td>0.0</td>\n",
       "      <td>1.000000</td>\n",
       "      <td>141.875000</td>\n",
       "      <td>45.000000</td>\n",
       "      <td>97.000000</td>\n",
       "      <td>0.0</td>\n",
       "      <td>0.0</td>\n",
       "      <td>0.0</td>\n",
       "      <td>0.0</td>\n",
       "      <td>0.000000</td>\n",
       "      <td>0.000000e+00</td>\n",
       "      <td>1.000000</td>\n",
       "      <td>23.000000</td>\n",
       "      <td>0.0</td>\n",
       "      <td>47.000000</td>\n",
       "      <td>14573.000000</td>\n",
       "      <td>1047.000000</td>\n",
       "      <td>2.000000</td>\n",
       "      <td>20.000000</td>\n",
       "      <td>0.0</td>\n",
       "      <td>0.0</td>\n",
       "      <td>0.0</td>\n",
       "      <td>0.0</td>\n",
       "      <td>1.456260e+15</td>\n",
       "      <td>1.033626e+07</td>\n",
       "      <td>1.456320e+15</td>\n",
       "      <td>1.456260e+15</td>\n",
       "    </tr>\n",
       "    <tr>\n",
       "      <th>max</th>\n",
       "      <td>65534.000000</td>\n",
       "      <td>65535.000000</td>\n",
       "      <td>17.000000</td>\n",
       "      <td>1.200000e+08</td>\n",
       "      <td>238161.000000</td>\n",
       "      <td>470862.000000</td>\n",
       "      <td>7.693074e+08</td>\n",
       "      <td>6.704287e+08</td>\n",
       "      <td>64240.000000</td>\n",
       "      <td>1350.000000</td>\n",
       "      <td>28502.368970</td>\n",
       "      <td>15870.122980</td>\n",
       "      <td>48168.000000</td>\n",
       "      <td>1350.000000</td>\n",
       "      <td>9901.912706</td>\n",
       "      <td>11469.193480</td>\n",
       "      <td>3.460000e+08</td>\n",
       "      <td>3.000000e+06</td>\n",
       "      <td>1.199856e+08</td>\n",
       "      <td>8.477462e+07</td>\n",
       "      <td>1.199994e+08</td>\n",
       "      <td>1.199856e+08</td>\n",
       "      <td>1.200000e+08</td>\n",
       "      <td>1.199997e+08</td>\n",
       "      <td>8.483684e+07</td>\n",
       "      <td>1.199997e+08</td>\n",
       "      <td>1.199997e+08</td>\n",
       "      <td>1.200000e+08</td>\n",
       "      <td>1.198065e+08</td>\n",
       "      <td>8.480719e+07</td>\n",
       "      <td>1.199657e+08</td>\n",
       "      <td>1.198065e+08</td>\n",
       "      <td>1.000000</td>\n",
       "      <td>0.0</td>\n",
       "      <td>0.0</td>\n",
       "      <td>0.0</td>\n",
       "      <td>4.768644e+06</td>\n",
       "      <td>9.417240e+06</td>\n",
       "      <td>2.000000e+06</td>\n",
       "      <td>1000000.000000</td>\n",
       "      <td>1350.00000</td>\n",
       "      <td>64240.000000</td>\n",
       "      <td>6647.070671</td>\n",
       "      <td>12617.095490</td>\n",
       "      <td>1.591911e+08</td>\n",
       "      <td>2.000000</td>\n",
       "      <td>7.000000</td>\n",
       "      <td>71.000000</td>\n",
       "      <td>48025.000000</td>\n",
       "      <td>709023.000000</td>\n",
       "      <td>0.0</td>\n",
       "      <td>0.0</td>\n",
       "      <td>0.0</td>\n",
       "      <td>4266.000000</td>\n",
       "      <td>6647.188377</td>\n",
       "      <td>28502.368970</td>\n",
       "      <td>9901.912706</td>\n",
       "      <td>0.0</td>\n",
       "      <td>0.0</td>\n",
       "      <td>0.0</td>\n",
       "      <td>0.0</td>\n",
       "      <td>470862.000000</td>\n",
       "      <td>1.515741e+08</td>\n",
       "      <td>1.000000</td>\n",
       "      <td>6644.000000</td>\n",
       "      <td>0.0</td>\n",
       "      <td>4872.000000</td>\n",
       "      <td>65535.000000</td>\n",
       "      <td>65535.000000</td>\n",
       "      <td>113325.000000</td>\n",
       "      <td>44.000000</td>\n",
       "      <td>0.0</td>\n",
       "      <td>0.0</td>\n",
       "      <td>0.0</td>\n",
       "      <td>0.0</td>\n",
       "      <td>1.460000e+15</td>\n",
       "      <td>1.030000e+15</td>\n",
       "      <td>1.460000e+15</td>\n",
       "      <td>1.460000e+15</td>\n",
       "    </tr>\n",
       "  </tbody>\n",
       "</table>\n",
       "</div>"
      ],
      "text/plain": [
       "            src_port       dst_port       protocol  flow_duration  \\\n",
       "count  141481.000000  141481.000000  141481.000000   1.414810e+05   \n",
       "mean    38461.671044   18114.742651      10.351934   2.082001e+07   \n",
       "std     19117.036685   22198.047115       5.432144   3.809618e+07   \n",
       "min         0.000000       0.000000       0.000000   1.000000e+00   \n",
       "25%     32504.000000      80.000000       6.000000   1.820100e+04   \n",
       "50%     43533.000000    5355.000000       6.000000   4.164300e+05   \n",
       "75%     53340.000000   40020.000000      17.000000   1.184129e+07   \n",
       "max     65534.000000   65535.000000      17.000000   1.200000e+08   \n",
       "\n",
       "       total_fwd_packet  total_bwd_packets  total_length_of_fwd_packet  \\\n",
       "count     141481.000000      141481.000000                1.414810e+05   \n",
       "mean         152.853238         154.695358                1.126601e+05   \n",
       "std         2378.733496        3419.306053                3.251919e+06   \n",
       "min            1.000000           0.000000                0.000000e+00   \n",
       "25%            1.000000           0.000000                0.000000e+00   \n",
       "50%            2.000000           1.000000                4.400000e+01   \n",
       "75%            4.000000           3.000000                2.160000e+02   \n",
       "max       238161.000000      470862.000000                7.693074e+08   \n",
       "\n",
       "       total_length_of_bwd_packet  fwd_packet_length_max  \\\n",
       "count                1.414810e+05          141481.000000   \n",
       "mean                 1.304982e+05             208.992183   \n",
       "std                  4.566970e+06             649.533315   \n",
       "min                  0.000000e+00               0.000000   \n",
       "25%                  0.000000e+00               0.000000   \n",
       "50%                  0.000000e+00              34.000000   \n",
       "75%                  2.160000e+02             103.000000   \n",
       "max                  6.704287e+08           64240.000000   \n",
       "\n",
       "       fwd_packet_length_min  fwd_packet_length_mean  fwd_packet_length_std  \\\n",
       "count          141481.000000           141481.000000          141481.000000   \n",
       "mean               15.622112               69.618578              63.996204   \n",
       "std                31.316241              220.000333             168.671059   \n",
       "min                 0.000000                0.000000               0.000000   \n",
       "25%                 0.000000                0.000000               0.000000   \n",
       "50%                 0.000000               22.666667               0.000000   \n",
       "75%                31.000000               45.000000              39.259818   \n",
       "max              1350.000000            28502.368970           15870.122980   \n",
       "\n",
       "       bwd_packet_length_max  bwd_packet_length_min  bwd_packet_length_mean  \\\n",
       "count          141481.000000          141481.000000           141481.000000   \n",
       "mean              230.050947              41.266481              107.323814   \n",
       "std               786.861445             100.799540              240.545273   \n",
       "min                 0.000000               0.000000                0.000000   \n",
       "25%                 0.000000               0.000000                0.000000   \n",
       "50%                 0.000000               0.000000                0.000000   \n",
       "75%               213.000000               0.000000               97.000000   \n",
       "max             48168.000000            1350.000000             9901.912706   \n",
       "\n",
       "       bwd_packet_length_std  flow_bytes/s  flow_packets/s  flow_iat_mean  \\\n",
       "count          141481.000000  1.414810e+05    1.414810e+05   1.414810e+05   \n",
       "mean               65.206009  8.511509e+04    1.090025e+04   2.605773e+06   \n",
       "std               194.024924  1.253105e+06    5.140726e+04   7.125986e+06   \n",
       "min                 0.000000  0.000000e+00    1.666866e-02   5.000000e-01   \n",
       "25%                 0.000000  0.000000e+00    6.403407e-01   3.081000e+03   \n",
       "50%                 0.000000  7.407141e+01    7.288178e+00   2.075010e+05   \n",
       "75%                11.313709  9.908225e+02    3.955696e+02   1.883009e+06   \n",
       "max             11469.193480  3.460000e+08    3.000000e+06   1.199856e+08   \n",
       "\n",
       "       flow_iat_std  flow_iat_max  flow_iat_min  fwd_iat_total  fwd_iat_mean  \\\n",
       "count  1.414810e+05  1.414810e+05  1.414810e+05   1.414810e+05  1.414810e+05   \n",
       "mean   3.218815e+06  9.897388e+06  9.082174e+05   1.977531e+07  4.102931e+06   \n",
       "std    7.754975e+06  1.968772e+07  5.666166e+06   3.766135e+07  1.145722e+07   \n",
       "min    0.000000e+00  1.000000e+00 -2.255000e+03   0.000000e+00  0.000000e+00   \n",
       "25%    0.000000e+00  1.712700e+04  1.600000e+01   0.000000e+00  0.000000e+00   \n",
       "50%    1.309393e+04  4.114240e+05  1.660000e+02   2.492210e+05  6.939700e+04   \n",
       "75%    2.213898e+06  7.214673e+06  1.291380e+05   9.744837e+06  2.684940e+06   \n",
       "max    8.477462e+07  1.199994e+08  1.199856e+08   1.200000e+08  1.199997e+08   \n",
       "\n",
       "        fwd_iat_std   fwd_iat_max   fwd_iat_min  bwd_iat_total  bwd_iat_mean  \\\n",
       "count  1.414810e+05  1.414810e+05  1.414810e+05   1.414810e+05  1.414810e+05   \n",
       "mean   2.591047e+06  9.201257e+06  2.481863e+06   1.663854e+07  3.055646e+06   \n",
       "std    7.139907e+06  1.921542e+07  1.049847e+07   3.591258e+07  1.036566e+07   \n",
       "min    0.000000e+00  0.000000e+00 -4.580000e+02   0.000000e+00  0.000000e+00   \n",
       "25%    0.000000e+00  0.000000e+00  0.000000e+00   0.000000e+00  0.000000e+00   \n",
       "50%    0.000000e+00  1.945540e+05  7.100000e+01   0.000000e+00  0.000000e+00   \n",
       "75%    1.441870e+06  6.323235e+06  1.026550e+05   1.324026e+06  1.865572e+05   \n",
       "max    8.483684e+07  1.199997e+08  1.199997e+08   1.200000e+08  1.198065e+08   \n",
       "\n",
       "        bwd_iat_std   bwd_iat_max   bwd_iat_min  fwd_psh_flags  bwd_psh_flags  \\\n",
       "count  1.414810e+05  1.414810e+05  1.414810e+05  141481.000000       141481.0   \n",
       "mean   2.206181e+06  7.410707e+06  1.618070e+06       0.099582            0.0   \n",
       "std    6.825496e+06  1.801892e+07  9.099865e+06       0.299443            0.0   \n",
       "min    0.000000e+00  0.000000e+00 -4.450000e+02       0.000000            0.0   \n",
       "25%    0.000000e+00  0.000000e+00  0.000000e+00       0.000000            0.0   \n",
       "50%    0.000000e+00  0.000000e+00  0.000000e+00       0.000000            0.0   \n",
       "75%    4.602841e+04  7.353500e+05  3.400000e+01       0.000000            0.0   \n",
       "max    8.480719e+07  1.199657e+08  1.198065e+08       1.000000            0.0   \n",
       "\n",
       "       fwd_urg_flags  bwd_urg_flags  fwd_header_length  bwd_header_length  \\\n",
       "count       141481.0       141481.0       1.414810e+05       1.414810e+05   \n",
       "mean             0.0            0.0       2.934016e+03       3.100340e+03   \n",
       "std              0.0            0.0       4.753506e+04       6.996384e+04   \n",
       "min              0.0            0.0       0.000000e+00       0.000000e+00   \n",
       "25%              0.0            0.0       1.600000e+01       0.000000e+00   \n",
       "50%              0.0            0.0       4.000000e+01       1.600000e+01   \n",
       "75%              0.0            0.0       9.200000e+01       7.200000e+01   \n",
       "max              0.0            0.0       4.768644e+06       9.417240e+06   \n",
       "\n",
       "       fwd_packets/s   bwd_packets/s  packet_length_min  packet_length_max  \\\n",
       "count   1.414810e+05   141481.000000       141481.00000      141481.000000   \n",
       "mean    6.324003e+03     4576.249602           14.37058         323.738806   \n",
       "std     3.559496e+04    21384.501827           23.95425         966.173949   \n",
       "min     8.417126e-03        0.000000            0.00000           0.000000   \n",
       "25%     3.812351e-01        0.000000            0.00000           0.000000   \n",
       "50%     4.869972e+00        0.716889            0.00000          59.000000   \n",
       "75%     2.825953e+02       37.256436           29.00000         345.000000   \n",
       "max     2.000000e+06  1000000.000000         1350.00000       64240.000000   \n",
       "\n",
       "       packet_length_mean  packet_length_std  packet_length_variance  \\\n",
       "count       141481.000000      141481.000000            1.414810e+05   \n",
       "mean            94.406247         108.511319            5.490004e+04   \n",
       "std            190.589042         207.667136            7.934920e+05   \n",
       "min              0.000000           0.000000            0.000000e+00   \n",
       "25%              0.000000           0.000000            0.000000e+00   \n",
       "50%             28.533333           9.237604            8.533333e+01   \n",
       "75%             95.952381         118.666944            1.408184e+04   \n",
       "max           6647.070671       12617.095490            1.591911e+08   \n",
       "\n",
       "       fin_flag_count  syn_flag_count  rst_flag_count  psh_flag_count  \\\n",
       "count   141481.000000   141481.000000   141481.000000   141481.000000   \n",
       "mean         0.455524        0.462444        0.038542       61.544462   \n",
       "std          0.556139        0.844525        0.342483      807.378043   \n",
       "min          0.000000        0.000000        0.000000        0.000000   \n",
       "25%          0.000000        0.000000        0.000000        0.000000   \n",
       "50%          0.000000        0.000000        0.000000        0.000000   \n",
       "75%          1.000000        0.000000        0.000000        2.000000   \n",
       "max          2.000000        7.000000       71.000000    48025.000000   \n",
       "\n",
       "       ack_flag_count  urg_flag_count  cwe_flag_count  ece_flag_count  \\\n",
       "count   141481.000000        141481.0        141481.0        141481.0   \n",
       "mean       268.344004             0.0             0.0             0.0   \n",
       "std       5343.738947             0.0             0.0             0.0   \n",
       "min          0.000000             0.0             0.0             0.0   \n",
       "25%          0.000000             0.0             0.0             0.0   \n",
       "50%          2.000000             0.0             0.0             0.0   \n",
       "75%          6.000000             0.0             0.0             0.0   \n",
       "max     709023.000000             0.0             0.0             0.0   \n",
       "\n",
       "       down/up_ratio  average_packet_size  fwd_segment_size_avg  \\\n",
       "count  141481.000000        141481.000000         141481.000000   \n",
       "mean        0.607163           108.937130             69.618578   \n",
       "std        12.499705           197.330438            220.000333   \n",
       "min         0.000000             0.000000              0.000000   \n",
       "25%         0.000000             0.000000              0.000000   \n",
       "50%         1.000000            33.000000             22.666667   \n",
       "75%         1.000000           141.875000             45.000000   \n",
       "max      4266.000000          6647.188377          28502.368970   \n",
       "\n",
       "       bwd_segment_size_avg  fwd_bytes/bulk_avg  fwd_packet/bulk_avg  \\\n",
       "count         141481.000000            141481.0             141481.0   \n",
       "mean             107.323814                 0.0                  0.0   \n",
       "std              240.545273                 0.0                  0.0   \n",
       "min                0.000000                 0.0                  0.0   \n",
       "25%                0.000000                 0.0                  0.0   \n",
       "50%                0.000000                 0.0                  0.0   \n",
       "75%               97.000000                 0.0                  0.0   \n",
       "max             9901.912706                 0.0                  0.0   \n",
       "\n",
       "       fwd_bulk_rate_avg  bwd_bytes/bulk_avg  bwd_packet/bulk_avg  \\\n",
       "count           141481.0            141481.0        141481.000000   \n",
       "mean                 0.0                 0.0           158.924477   \n",
       "std                  0.0                 0.0          3042.896705   \n",
       "min                  0.0                 0.0             0.000000   \n",
       "25%                  0.0                 0.0             0.000000   \n",
       "50%                  0.0                 0.0             0.000000   \n",
       "75%                  0.0                 0.0             0.000000   \n",
       "max                  0.0                 0.0        470862.000000   \n",
       "\n",
       "       bwd_bulk_rate_avg  subflow_fwd_packets  subflow_fwd_bytes  \\\n",
       "count       1.414810e+05        141481.000000      141481.000000   \n",
       "mean        4.523367e+04             0.286759          43.142669   \n",
       "std         1.046850e+06             0.452250         137.747309   \n",
       "min         0.000000e+00             0.000000           0.000000   \n",
       "25%         0.000000e+00             0.000000           0.000000   \n",
       "50%         0.000000e+00             0.000000          18.000000   \n",
       "75%         0.000000e+00             1.000000          23.000000   \n",
       "max         1.515741e+08             1.000000        6644.000000   \n",
       "\n",
       "       subflow_bwd_packets  subflow_bwd_bytes  fwd_init_win_bytes  \\\n",
       "count             141481.0      141481.000000       141481.000000   \n",
       "mean                   0.0          55.507785         5309.368869   \n",
       "std                    0.0         134.386995         9896.763688   \n",
       "min                    0.0           0.000000            0.000000   \n",
       "25%                    0.0           0.000000            0.000000   \n",
       "50%                    0.0           0.000000          913.000000   \n",
       "75%                    0.0          47.000000        14573.000000   \n",
       "max                    0.0        4872.000000        65535.000000   \n",
       "\n",
       "       bwd_init_win_bytes  fwd_act_data_pkts  fwd_seg_size_min  active_mean  \\\n",
       "count       141481.000000      141481.000000     141481.000000     141481.0   \n",
       "mean          1766.743450          96.915126         15.806730          0.0   \n",
       "std           7565.024908        1583.087946          7.111517          0.0   \n",
       "min              0.000000           0.000000          0.000000          0.0   \n",
       "25%              0.000000           0.000000          8.000000          0.0   \n",
       "50%              0.000000           1.000000         20.000000          0.0   \n",
       "75%           1047.000000           2.000000         20.000000          0.0   \n",
       "max          65535.000000      113325.000000         44.000000          0.0   \n",
       "\n",
       "       active_std  active_max  active_min     idle_mean      idle_std  \\\n",
       "count    141481.0    141481.0    141481.0  1.414810e+05  1.414810e+05   \n",
       "mean          0.0         0.0         0.0  7.030464e+14  5.528051e+13   \n",
       "std           0.0         0.0         0.0  7.058720e+14  1.930472e+14   \n",
       "min           0.0         0.0         0.0  0.000000e+00  0.000000e+00   \n",
       "25%           0.0         0.0         0.0  0.000000e+00  0.000000e+00   \n",
       "50%           0.0         0.0         0.0  7.281250e+14  0.000000e+00   \n",
       "75%           0.0         0.0         0.0  1.456260e+15  1.033626e+07   \n",
       "max           0.0         0.0         0.0  1.460000e+15  1.030000e+15   \n",
       "\n",
       "           idle_max      idle_min  \n",
       "count  1.414810e+05  1.414810e+05  \n",
       "mean   7.308415e+14  5.996154e+14  \n",
       "std    7.248181e+14  7.138651e+14  \n",
       "min    0.000000e+00  0.000000e+00  \n",
       "25%    0.000000e+00  0.000000e+00  \n",
       "50%    1.427730e+15  5.590757e+06  \n",
       "75%    1.456320e+15  1.456260e+15  \n",
       "max    1.460000e+15  1.460000e+15  "
      ]
     },
     "execution_count": 45,
     "metadata": {},
     "output_type": "execute_result"
    }
   ],
   "source": [
    "# Teste sem as linhas que tem inf e NaN\n",
    "df[~(\n",
    "    (df['flow_packets/s'] == np.inf) | (df['flow_bytes/s'] == np.inf) | (df['flow_bytes/s'] == np.nan)   \n",
    ")].describe()"
   ]
  },
  {
   "cell_type": "code",
   "execution_count": 46,
   "metadata": {},
   "outputs": [],
   "source": [
    "df_novo = df[~(\n",
    "    (df['flow_packets/s'] == np.inf) | (df['flow_bytes/s'] == np.inf) | (df['flow_bytes/s'] == np.nan)   \n",
    ")]"
   ]
  },
  {
   "cell_type": "code",
   "execution_count": 47,
   "metadata": {},
   "outputs": [],
   "source": [
    "df_velho = df\n",
    "df = df_novo"
   ]
  },
  {
   "cell_type": "code",
   "execution_count": 119,
   "metadata": {},
   "outputs": [
    {
     "data": {
      "text/plain": [
       "['ack_flag_count',\n",
       " 'active_max',\n",
       " 'active_mean',\n",
       " 'active_min',\n",
       " 'active_std',\n",
       " 'average_packet_size',\n",
       " 'bwd_bulk_rate_avg',\n",
       " 'bwd_bytes/bulk_avg',\n",
       " 'bwd_header_length',\n",
       " 'bwd_iat_max',\n",
       " 'bwd_iat_mean',\n",
       " 'bwd_iat_min',\n",
       " 'bwd_iat_std',\n",
       " 'bwd_iat_total',\n",
       " 'bwd_init_win_bytes',\n",
       " 'bwd_packet/bulk_avg',\n",
       " 'bwd_packet_length_max',\n",
       " 'bwd_packet_length_mean',\n",
       " 'bwd_packet_length_min',\n",
       " 'bwd_packet_length_std',\n",
       " 'bwd_packets/s',\n",
       " 'bwd_psh_flags',\n",
       " 'bwd_segment_size_avg',\n",
       " 'bwd_urg_flags',\n",
       " 'cwe_flag_count',\n",
       " 'down/up_ratio',\n",
       " 'dst_ip',\n",
       " 'dst_port',\n",
       " 'ece_flag_count',\n",
       " 'fin_flag_count',\n",
       " 'flow_bytes/s',\n",
       " 'flow_duration',\n",
       " 'flow_iat_max',\n",
       " 'flow_iat_mean',\n",
       " 'flow_iat_min',\n",
       " 'flow_iat_std',\n",
       " 'flow_id',\n",
       " 'flow_packets/s',\n",
       " 'fwd_act_data_pkts',\n",
       " 'fwd_bulk_rate_avg',\n",
       " 'fwd_bytes/bulk_avg',\n",
       " 'fwd_header_length',\n",
       " 'fwd_iat_max',\n",
       " 'fwd_iat_mean',\n",
       " 'fwd_iat_min',\n",
       " 'fwd_iat_std',\n",
       " 'fwd_iat_total',\n",
       " 'fwd_init_win_bytes',\n",
       " 'fwd_packet/bulk_avg',\n",
       " 'fwd_packet_length_max',\n",
       " 'fwd_packet_length_mean',\n",
       " 'fwd_packet_length_min',\n",
       " 'fwd_packet_length_std',\n",
       " 'fwd_packets/s',\n",
       " 'fwd_psh_flags',\n",
       " 'fwd_seg_size_min',\n",
       " 'fwd_segment_size_avg',\n",
       " 'fwd_urg_flags',\n",
       " 'idle_max',\n",
       " 'idle_mean',\n",
       " 'idle_min',\n",
       " 'idle_std',\n",
       " 'label',\n",
       " 'label.1',\n",
       " 'packet_length_max',\n",
       " 'packet_length_mean',\n",
       " 'packet_length_min',\n",
       " 'packet_length_std',\n",
       " 'packet_length_variance',\n",
       " 'protocol',\n",
       " 'psh_flag_count',\n",
       " 'rst_flag_count',\n",
       " 'src_ip',\n",
       " 'src_port',\n",
       " 'subflow_bwd_bytes',\n",
       " 'subflow_bwd_packets',\n",
       " 'subflow_fwd_bytes',\n",
       " 'subflow_fwd_packets',\n",
       " 'syn_flag_count',\n",
       " 'timestamp',\n",
       " 'total_bwd_packets',\n",
       " 'total_fwd_packet',\n",
       " 'total_length_of_bwd_packet',\n",
       " 'total_length_of_fwd_packet',\n",
       " 'urg_flag_count']"
      ]
     },
     "execution_count": 119,
     "metadata": {},
     "output_type": "execute_result"
    }
   ],
   "source": [
    "sorted(df.columns)"
   ]
  },
  {
   "cell_type": "code",
   "execution_count": 42,
   "metadata": {},
   "outputs": [],
   "source": [
    "active_columns = df.columns[df.columns.str.match('^active_')]\n",
    "bwd_columns = df.columns[df.columns.str.match('^bwd_')]\n",
    "flow_columns = df.columns[df.columns.str.match('^flow_')]\n",
    "fwd_columns = df.columns[df.columns.str.match('^fwd_')]\n",
    "idle_columns = df.columns[df.columns.str.match('^idle_')]\n",
    "packet_columns = df.columns[df.columns.str.match('^packet_')]\n",
    "subflow_columns = df.columns[df.columns.str.match('^subflow_')]\n",
    "total_columns = df.columns[df.columns.str.match('^total_')]"
   ]
  },
  {
   "cell_type": "code",
   "execution_count": 71,
   "metadata": {},
   "outputs": [],
   "source": [
    "other_columns = df.columns[~df.columns.str.match('^(active|bwd|flow|fwd|idle|packet|subflow|total)_')]"
   ]
  },
  {
   "cell_type": "markdown",
   "metadata": {},
   "source": [
    "### Funções Facilitadoras\n",
    "Funções para facilitar plotagem de gráficos"
   ]
  },
  {
   "cell_type": "code",
   "execution_count": 116,
   "metadata": {},
   "outputs": [],
   "source": [
    "def plota_boxplot(variavel, sufixo=['mean', 'std', 'min', 'max']):\n",
    "    fig, axs = plt.subplots(1, len(sufixo), figsize=(24,5))\n",
    "    sub_df = df.loc[:, df.columns.str.match(variavel)]\n",
    "    for idx, item in enumerate(sufixo):\n",
    "        label_plot = f'{variavel}_{item}'\n",
    "        ax = sns.boxplot(x='label', y=label_plot, data=df, ax=axs[idx])\n",
    "        ax.set_ylabel('')\n",
    "        ax.set_xlabel(label_plot)\n",
    "    fig.suptitle(variavel)"
   ]
  },
  {
   "cell_type": "code",
   "execution_count": 117,
   "metadata": {},
   "outputs": [],
   "source": [
    "def plota_boxplot_prefixo(variavel, prefixo=['fwd']):\n",
    "    fig, axs = plt.subplots(1, len(prefixo), figsize=(24,5))\n",
    "    sub_df = df.loc[:, df.columns.str.match(variavel)]\n",
    "    for idx, item in enumerate(prefixo):\n",
    "        label_plot = f'{item}_{variavel}'\n",
    "        ax = sns.boxplot(x='label', y=label_plot, data=df, ax=axs[idx])\n",
    "        ax.set_ylabel('')\n",
    "        ax.set_xlabel(label_plot)\n",
    "    fig.suptitle(variavel)"
   ]
  },
  {
   "cell_type": "markdown",
   "metadata": {},
   "source": [
    "# Bwd e Fwd"
   ]
  },
  {
   "cell_type": "code",
   "execution_count": 137,
   "metadata": {},
   "outputs": [
    {
     "name": "stdout",
     "output_type": "stream",
     "text": [
      "Index(['bwd_packet_length_max', 'bwd_packet_length_min',\n",
      "       'bwd_packet_length_mean', 'bwd_packet_length_std', 'bwd_iat_total',\n",
      "       'bwd_iat_mean', 'bwd_iat_std', 'bwd_iat_max', 'bwd_iat_min',\n",
      "       'bwd_psh_flags', 'bwd_urg_flags', 'bwd_header_length', 'bwd_packets/s',\n",
      "       'bwd_segment_size_avg', 'bwd_bytes/bulk_avg', 'bwd_packet/bulk_avg',\n",
      "       'bwd_bulk_rate_avg', 'bwd_init_win_bytes'],\n",
      "      dtype='object') 18\n",
      "Index(['fwd_packet_length_max', 'fwd_packet_length_min',\n",
      "       'fwd_packet_length_mean', 'fwd_packet_length_std', 'fwd_iat_total',\n",
      "       'fwd_iat_mean', 'fwd_iat_std', 'fwd_iat_max', 'fwd_iat_min',\n",
      "       'fwd_psh_flags', 'fwd_urg_flags', 'fwd_header_length', 'fwd_packets/s',\n",
      "       'fwd_segment_size_avg', 'fwd_bytes/bulk_avg', 'fwd_packet/bulk_avg',\n",
      "       'fwd_bulk_rate_avg', 'fwd_init_win_bytes', 'fwd_act_data_pkts',\n",
      "       'fwd_seg_size_min'],\n",
      "      dtype='object') 20\n"
     ]
    }
   ],
   "source": [
    "print(bwd_columns, len(bwd_columns))\n",
    "print(fwd_columns, len(fwd_columns))"
   ]
  },
  {
   "cell_type": "markdown",
   "metadata": {},
   "source": [
    "## Mean, std, min, max e outro"
   ]
  },
  {
   "cell_type": "code",
   "execution_count": 134,
   "metadata": {},
   "outputs": [
    {
     "data": {
      "image/png": "[encoded data removed]",
      "text/plain": [
       "<Figure size 1728x360 with 4 Axes>"
      ]
     },
     "metadata": {
      "needs_background": "light"
     },
     "output_type": "display_data"
    }
   ],
   "source": [
    "plota_boxplot('bwd_packet_length')"
   ]
  },
  {
   "cell_type": "code",
   "execution_count": 138,
   "metadata": {},
   "outputs": [
    {
     "data": {
      "image/png": "[encoded data removed]",
      "text/plain": [
       "<Figure size 1728x360 with 4 Axes>"
      ]
     },
     "metadata": {
      "needs_background": "light"
     },
     "output_type": "display_data"
    }
   ],
   "source": [
    "plota_boxplot('fwd_packet_length')"
   ]
  },
  {
   "cell_type": "code",
   "execution_count": 135,
   "metadata": {},
   "outputs": [
    {
     "data": {
      "image/png": "[encoded data removed]",
      "text/plain": [
       "<Figure size 1728x360 with 5 Axes>"
      ]
     },
     "metadata": {
      "needs_background": "light"
     },
     "output_type": "display_data"
    }
   ],
   "source": [
    "plota_boxplot('bwd_iat', ['mean', 'std', 'min', 'max', 'total'])"
   ]
  },
  {
   "cell_type": "code",
   "execution_count": 139,
   "metadata": {},
   "outputs": [
    {
     "data": {
      "image/png": "[encoded data removed]",
      "text/plain": [
       "<Figure size 1728x360 with 5 Axes>"
      ]
     },
     "metadata": {
      "needs_background": "light"
     },
     "output_type": "display_data"
    }
   ],
   "source": [
    "plota_boxplot('fwd_iat', ['mean', 'std', 'min', 'max', 'total'])"
   ]
  },
  {
   "cell_type": "markdown",
   "metadata": {},
   "source": [
    "## Variável com bwd vs fwd"
   ]
  },
  {
   "cell_type": "code",
   "execution_count": 140,
   "metadata": {},
   "outputs": [
    {
     "data": {
      "image/png": "[encoded data removed]",
      "text/plain": [
       "<Figure size 1728x360 with 2 Axes>"
      ]
     },
     "metadata": {
      "needs_background": "light"
     },
     "output_type": "display_data"
    }
   ],
   "source": [
    "plota_boxplot_prefixo('psh_flags', ['bwd', 'fwd'])"
   ]
  },
  {
   "cell_type": "code",
   "execution_count": 141,
   "metadata": {},
   "outputs": [
    {
     "data": {
      "image/png": "[encoded data removed]",
      "text/plain": [
       "<Figure size 1728x360 with 2 Axes>"
      ]
     },
     "metadata": {
      "needs_background": "light"
     },
     "output_type": "display_data"
    }
   ],
   "source": [
    "plota_boxplot_prefixo('urg_flags', ['bwd', 'fwd'])"
   ]
  },
  {
   "cell_type": "code",
   "execution_count": 142,
   "metadata": {},
   "outputs": [
    {
     "data": {
      "image/png": "[encoded data removed]",
      "text/plain": [
       "<Figure size 1728x360 with 2 Axes>"
      ]
     },
     "metadata": {
      "needs_background": "light"
     },
     "output_type": "display_data"
    }
   ],
   "source": [
    "plota_boxplot_prefixo('header_length', ['bwd', 'fwd'])"
   ]
  },
  {
   "cell_type": "code",
   "execution_count": 143,
   "metadata": {},
   "outputs": [
    {
     "data": {
      "image/png": "[encoded data removed]",
      "text/plain": [
       "<Figure size 1728x360 with 2 Axes>"
      ]
     },
     "metadata": {
      "needs_background": "light"
     },
     "output_type": "display_data"
    }
   ],
   "source": [
    "plota_boxplot_prefixo('packets/s', ['bwd', 'fwd'])"
   ]
  },
  {
   "cell_type": "code",
   "execution_count": 144,
   "metadata": {},
   "outputs": [
    {
     "data": {
      "image/png": "[encoded data removed]",
      "text/plain": [
       "<Figure size 1728x360 with 2 Axes>"
      ]
     },
     "metadata": {
      "needs_background": "light"
     },
     "output_type": "display_data"
    }
   ],
   "source": [
    "plota_boxplot_prefixo('segment_size_avg', ['bwd', 'fwd'])"
   ]
  },
  {
   "cell_type": "code",
   "execution_count": 145,
   "metadata": {},
   "outputs": [
    {
     "data": {
      "image/png": "[encoded data removed]",
      "text/plain": [
       "<Figure size 1728x360 with 2 Axes>"
      ]
     },
     "metadata": {
      "needs_background": "light"
     },
     "output_type": "display_data"
    }
   ],
   "source": [
    "plota_boxplot_prefixo('bytes/bulk_avg', ['bwd', 'fwd'])"
   ]
  },
  {
   "cell_type": "code",
   "execution_count": 146,
   "metadata": {},
   "outputs": [
    {
     "data": {
      "image/png": "[encoded data removed]",
      "text/plain": [
       "<Figure size 1728x360 with 2 Axes>"
      ]
     },
     "metadata": {
      "needs_background": "light"
     },
     "output_type": "display_data"
    }
   ],
   "source": [
    "plota_boxplot_prefixo('packet/bulk_avg', ['bwd', 'fwd'])"
   ]
  },
  {
   "cell_type": "code",
   "execution_count": 147,
   "metadata": {},
   "outputs": [
    {
     "data": {
      "image/png": "[encoded data removed]",
      "text/plain": [
       "<Figure size 1728x360 with 2 Axes>"
      ]
     },
     "metadata": {
      "needs_background": "light"
     },
     "output_type": "display_data"
    }
   ],
   "source": [
    "plota_boxplot_prefixo('bulk_rate_avg', ['bwd', 'fwd'])"
   ]
  },
  {
   "cell_type": "code",
   "execution_count": 148,
   "metadata": {},
   "outputs": [
    {
     "data": {
      "image/png": "[encoded data removed]",
      "text/plain": [
       "<Figure size 1728x360 with 2 Axes>"
      ]
     },
     "metadata": {
      "needs_background": "light"
     },
     "output_type": "display_data"
    }
   ],
   "source": [
    "plota_boxplot_prefixo('init_win_bytes', ['bwd', 'fwd'])"
   ]
  },
  {
   "cell_type": "markdown",
   "metadata": {},
   "source": [
    "## Só Fwd"
   ]
  },
  {
   "cell_type": "code",
   "execution_count": 149,
   "metadata": {},
   "outputs": [
    {
     "data": {
      "text/plain": [
       "<AxesSubplot:xlabel='label', ylabel='fwd_act_data_pkts'>"
      ]
     },
     "execution_count": 149,
     "metadata": {},
     "output_type": "execute_result"
    },
    {
     "data": {
      "image/png": "[encoded data removed]",
      "text/plain": [
       "<Figure size 432x288 with 1 Axes>"
      ]
     },
     "metadata": {
      "needs_background": "light"
     },
     "output_type": "display_data"
    }
   ],
   "source": [
    "sns.boxplot(x='label', y='fwd_act_data_pkts', data=df)"
   ]
  },
  {
   "cell_type": "code",
   "execution_count": 150,
   "metadata": {},
   "outputs": [
    {
     "data": {
      "text/plain": [
       "<AxesSubplot:xlabel='label', ylabel='fwd_seg_size_min'>"
      ]
     },
     "execution_count": 150,
     "metadata": {},
     "output_type": "execute_result"
    },
    {
     "data": {
      "image/png": "[encoded data removed]",
      "text/plain": [
       "<Figure size 432x288 with 1 Axes>"
      ]
     },
     "metadata": {
      "needs_background": "light"
     },
     "output_type": "display_data"
    }
   ],
   "source": [
    "sns.boxplot(x='label', y='fwd_seg_size_min', data=df)"
   ]
  },
  {
   "cell_type": "markdown",
   "metadata": {},
   "source": [
    "# Active, Idle e Packet"
   ]
  },
  {
   "cell_type": "code",
   "execution_count": 126,
   "metadata": {},
   "outputs": [
    {
     "name": "stdout",
     "output_type": "stream",
     "text": [
      "Index(['active_mean', 'active_std', 'active_max', 'active_min'], dtype='object')\n",
      "Index(['idle_mean', 'idle_std', 'idle_max', 'idle_min'], dtype='object')\n",
      "Index(['packet_length_min', 'packet_length_max', 'packet_length_mean',\n",
      "       'packet_length_std', 'packet_length_variance'],\n",
      "      dtype='object')\n"
     ]
    }
   ],
   "source": [
    "print(active_columns)\n",
    "print(idle_columns)\n",
    "print(packet_columns)"
   ]
  },
  {
   "cell_type": "code",
   "execution_count": 121,
   "metadata": {},
   "outputs": [
    {
     "data": {
      "image/png": "[encoded data removed]",
      "text/plain": [
       "<Figure size 1728x360 with 4 Axes>"
      ]
     },
     "metadata": {
      "needs_background": "light"
     },
     "output_type": "display_data"
    }
   ],
   "source": [
    "plota_boxplot('active')"
   ]
  },
  {
   "cell_type": "code",
   "execution_count": 123,
   "metadata": {},
   "outputs": [
    {
     "data": {
      "image/png": "[encoded data removed]",
      "text/plain": [
       "<Figure size 1728x360 with 4 Axes>"
      ]
     },
     "metadata": {
      "needs_background": "light"
     },
     "output_type": "display_data"
    }
   ],
   "source": [
    "plota_boxplot('idle')"
   ]
  },
  {
   "cell_type": "code",
   "execution_count": 125,
   "metadata": {},
   "outputs": [
    {
     "data": {
      "image/png": "[encoded data removed]",
      "text/plain": [
       "<Figure size 1728x360 with 5 Axes>"
      ]
     },
     "metadata": {
      "needs_background": "light"
     },
     "output_type": "display_data"
    }
   ],
   "source": [
    "plota_boxplot('packet_length', ['mean', 'std', 'min', 'max', 'variance'])"
   ]
  },
  {
   "cell_type": "markdown",
   "metadata": {},
   "source": [
    "# Flow"
   ]
  },
  {
   "cell_type": "code",
   "execution_count": 153,
   "metadata": {},
   "outputs": [
    {
     "name": "stdout",
     "output_type": "stream",
     "text": [
      "Index(['flow_id', 'flow_duration', 'flow_bytes/s', 'flow_packets/s',\n",
      "       'flow_iat_mean', 'flow_iat_std', 'flow_iat_max', 'flow_iat_min'],\n",
      "      dtype='object')\n"
     ]
    }
   ],
   "source": [
    "print(flow_columns)"
   ]
  },
  {
   "cell_type": "code",
   "execution_count": 160,
   "metadata": {},
   "outputs": [
    {
     "data": {
      "text/plain": [
       "8.6.0.1-8.0.6.4-0-0-0                          430\n",
       "10.152.152.11-239.255.255.250-34803-1900-17    172\n",
       "195.154.107.23-10.0.2.15-443-37652-6           108\n",
       "10.0.2.15-195.154.107.23-54453-443-6           104\n",
       "10.8.8.138-255.255.255.255-17500-17500-17       88\n",
       "                                              ... \n",
       "10.152.152.11-64.233.164.120-35978-443-17        1\n",
       "10.152.152.11-10.152.152.10-52076-53-17          1\n",
       "10.152.152.11-10.152.152.10-24368-53-17          1\n",
       "10.152.152.11-10.152.152.10-37374-53-17          1\n",
       "10.8.8.246-224.0.0.252-61115-5355-17             1\n",
       "Name: flow_id, Length: 77522, dtype: int64"
      ]
     },
     "execution_count": 160,
     "metadata": {},
     "output_type": "execute_result"
    }
   ],
   "source": [
    "df['flow_id'].value_counts()"
   ]
  },
  {
   "cell_type": "code",
   "execution_count": 161,
   "metadata": {},
   "outputs": [
    {
     "data": {
      "image/png": "[encoded data removed]",
      "text/plain": [
       "<Figure size 1728x360 with 3 Axes>"
      ]
     },
     "metadata": {
      "needs_background": "light"
     },
     "output_type": "display_data"
    }
   ],
   "source": [
    "plota_boxplot('flow', ['duration', 'bytes/s', 'packets/s'])"
   ]
  },
  {
   "cell_type": "code",
   "execution_count": 163,
   "metadata": {},
   "outputs": [
    {
     "data": {
      "image/png": "[encoded data removed]",
      "text/plain": [
       "<Figure size 1728x360 with 4 Axes>"
      ]
     },
     "metadata": {
      "needs_background": "light"
     },
     "output_type": "display_data"
    }
   ],
   "source": [
    "plota_boxplot('flow_iat')"
   ]
  },
  {
   "cell_type": "markdown",
   "metadata": {},
   "source": [
    "# Subflow"
   ]
  },
  {
   "cell_type": "code",
   "execution_count": 154,
   "metadata": {},
   "outputs": [
    {
     "name": "stdout",
     "output_type": "stream",
     "text": [
      "Index(['subflow_fwd_packets', 'subflow_fwd_bytes', 'subflow_bwd_packets',\n",
      "       'subflow_bwd_bytes'],\n",
      "      dtype='object')\n"
     ]
    }
   ],
   "source": [
    "print(subflow_columns)"
   ]
  },
  {
   "cell_type": "code",
   "execution_count": 155,
   "metadata": {},
   "outputs": [
    {
     "data": {
      "image/png": "[encoded data removed]",
      "text/plain": [
       "<Figure size 1728x360 with 2 Axes>"
      ]
     },
     "metadata": {
      "needs_background": "light"
     },
     "output_type": "display_data"
    }
   ],
   "source": [
    "plota_boxplot('subflow_fwd', ['packets', 'bytes'])"
   ]
  },
  {
   "cell_type": "code",
   "execution_count": 156,
   "metadata": {},
   "outputs": [
    {
     "data": {
      "image/png": "[encoded data removed]",
      "text/plain": [
       "<Figure size 1728x360 with 2 Axes>"
      ]
     },
     "metadata": {
      "needs_background": "light"
     },
     "output_type": "display_data"
    }
   ],
   "source": [
    "plota_boxplot('subflow_bwd', ['packets', 'bytes'])"
   ]
  },
  {
   "cell_type": "markdown",
   "metadata": {},
   "source": [
    "# Total"
   ]
  },
  {
   "cell_type": "code",
   "execution_count": 128,
   "metadata": {},
   "outputs": [
    {
     "name": "stdout",
     "output_type": "stream",
     "text": [
      "Index(['total_fwd_packet', 'total_bwd_packets', 'total_length_of_fwd_packet',\n",
      "       'total_length_of_bwd_packet'],\n",
      "      dtype='object')\n"
     ]
    }
   ],
   "source": [
    "print(total_columns)"
   ]
  },
  {
   "cell_type": "code",
   "execution_count": 131,
   "metadata": {
    "scrolled": true
   },
   "outputs": [
    {
     "data": {
      "image/png": "[encoded data removed]",
      "text/plain": [
       "<Figure size 1728x360 with 2 Axes>"
      ]
     },
     "metadata": {
      "needs_background": "light"
     },
     "output_type": "display_data"
    }
   ],
   "source": [
    "plota_boxplot('total', ['fwd_packet', 'bwd_packets'])"
   ]
  },
  {
   "cell_type": "code",
   "execution_count": 132,
   "metadata": {
    "scrolled": true
   },
   "outputs": [
    {
     "data": {
      "image/png": "[encoded data removed]",
      "text/plain": [
       "<Figure size 1728x360 with 2 Axes>"
      ]
     },
     "metadata": {
      "needs_background": "light"
     },
     "output_type": "display_data"
    }
   ],
   "source": [
    "plota_boxplot('total', ['length_of_fwd_packet', 'length_of_bwd_packet'])"
   ]
  },
  {
   "cell_type": "markdown",
   "metadata": {},
   "source": [
    "# Other Columns"
   ]
  },
  {
   "cell_type": "code",
   "execution_count": 127,
   "metadata": {},
   "outputs": [
    {
     "name": "stdout",
     "output_type": "stream",
     "text": [
      "Index(['src_ip', 'src_port', 'dst_ip', 'dst_port', 'protocol', 'timestamp',\n",
      "       'fin_flag_count', 'syn_flag_count', 'rst_flag_count', 'psh_flag_count',\n",
      "       'ack_flag_count', 'urg_flag_count', 'cwe_flag_count', 'ece_flag_count',\n",
      "       'down/up_ratio', 'average_packet_size', 'label', 'label.1'],\n",
      "      dtype='object')\n"
     ]
    }
   ],
   "source": [
    "print(other_columns)"
   ]
  },
  {
   "cell_type": "markdown",
   "metadata": {},
   "source": [
    "## Source and Destination IP"
   ]
  },
  {
   "cell_type": "code",
   "execution_count": 51,
   "metadata": {},
   "outputs": [],
   "source": [
    "ips_nao_publicos = [\n",
    "    '^10\\.', '^172\\.1[6-9]\\.', '^172\\.2[0-9]\\.', '^172\\.3[0-1]\\.', '^192\\.168\\.'\n",
    "]\n",
    "regex_ips = '|'.join(ips_nao_publicos)"
   ]
  },
  {
   "cell_type": "code",
   "execution_count": 52,
   "metadata": {},
   "outputs": [],
   "source": [
    "src_ip = df['src_ip']\n",
    "dst_ip = df['dst_ip']"
   ]
  },
  {
   "cell_type": "code",
   "execution_count": 53,
   "metadata": {},
   "outputs": [
    {
     "name": "stdout",
     "output_type": "stream",
     "text": [
      "IPs origem não públicos: 104685 de 141481\n"
     ]
    },
    {
     "data": {
      "text/plain": [
       "Non-Tor    81633\n",
       "VPN        21468\n",
       "Tor          812\n",
       "NonVPN       772\n",
       "Name: label, dtype: int64"
      ]
     },
     "execution_count": 53,
     "metadata": {},
     "output_type": "execute_result"
    }
   ],
   "source": [
    "print('IPs origem não públicos: ', end='')\n",
    "print(src_ip.str.match(regex_ips).sum(), 'de', df.shape[0])\n",
    "df.loc[src_ip.str.match(regex_ips), 'label'].value_counts()"
   ]
  },
  {
   "cell_type": "code",
   "execution_count": 54,
   "metadata": {},
   "outputs": [
    {
     "name": "stdout",
     "output_type": "stream",
     "text": [
      "IPs destino não públicos: 25881 de 141481\n"
     ]
    },
    {
     "data": {
      "text/plain": [
       "Non-Tor    23747\n",
       "VPN         1609\n",
       "Tor          370\n",
       "NonVPN       155\n",
       "Name: label, dtype: int64"
      ]
     },
     "execution_count": 54,
     "metadata": {},
     "output_type": "execute_result"
    }
   ],
   "source": [
    "print('IPs destino não públicos: ', end='')\n",
    "print(dst_ip.str.match(regex_ips).sum(), 'de', df.shape[0])\n",
    "df.loc[dst_ip.str.match(regex_ips), 'label'].value_counts()"
   ]
  },
  {
   "cell_type": "markdown",
   "metadata": {},
   "source": [
    "## Source and Destination Ports"
   ]
  },
  {
   "cell_type": "code",
   "execution_count": 55,
   "metadata": {},
   "outputs": [],
   "source": [
    "src_port = df['src_port']\n",
    "dst_port = df['dst_port']"
   ]
  },
  {
   "cell_type": "code",
   "execution_count": 56,
   "metadata": {},
   "outputs": [
    {
     "name": "stdout",
     "output_type": "stream",
     "text": [
      "11634 portas origem no intervalo [0, 1024)\n"
     ]
    },
    {
     "data": {
      "text/plain": [
       "Non-Tor    7698\n",
       "NonVPN     2479\n",
       "VPN        1052\n",
       "Tor         405\n",
       "Name: label, dtype: int64"
      ]
     },
     "execution_count": 56,
     "metadata": {},
     "output_type": "execute_result"
    }
   ],
   "source": [
    "print(src_port[src_port < 1024].value_counts().sum(), \"portas origem no intervalo [0, 1024)\")\n",
    "df.loc[src_port < 1024, 'label'].value_counts()"
   ]
  },
  {
   "cell_type": "code",
   "execution_count": 57,
   "metadata": {},
   "outputs": [
    {
     "data": {
      "text/plain": [
       "<AxesSubplot:>"
      ]
     },
     "execution_count": 57,
     "metadata": {},
     "output_type": "execute_result"
    },
    {
     "data": {
      "image/png": "[encoded data removed]",
      "text/plain": [
       "<Figure size 432x288 with 1 Axes>"
      ]
     },
     "metadata": {
      "needs_background": "light"
     },
     "output_type": "display_data"
    }
   ],
   "source": [
    "src_port.hist(bins=20)"
   ]
  },
  {
   "cell_type": "code",
   "execution_count": 58,
   "metadata": {},
   "outputs": [
    {
     "name": "stdout",
     "output_type": "stream",
     "text": [
      "62845 portas destino no intervalo [0, 1024)\n"
     ]
    },
    {
     "data": {
      "text/plain": [
       "Non-Tor    34235\n",
       "VPN        17513\n",
       "NonVPN     10180\n",
       "Tor          917\n",
       "Name: label, dtype: int64"
      ]
     },
     "execution_count": 58,
     "metadata": {},
     "output_type": "execute_result"
    }
   ],
   "source": [
    "print(dst_port[dst_port < 1024].value_counts().sum(), \"portas destino no intervalo [0, 1024)\")\n",
    "df.loc[dst_port < 1024, 'label'].value_counts()"
   ]
  },
  {
   "cell_type": "code",
   "execution_count": 59,
   "metadata": {},
   "outputs": [
    {
     "data": {
      "text/plain": [
       "<AxesSubplot:>"
      ]
     },
     "execution_count": 59,
     "metadata": {},
     "output_type": "execute_result"
    },
    {
     "data": {
      "image/png": "[encoded data removed]",
      "text/plain": [
       "<Figure size 432x288 with 1 Axes>"
      ]
     },
     "metadata": {
      "needs_background": "light"
     },
     "output_type": "display_data"
    }
   ],
   "source": [
    "dst_port.hist(bins=20)"
   ]
  },
  {
   "cell_type": "markdown",
   "metadata": {},
   "source": [
    "## Protocol"
   ]
  },
  {
   "cell_type": "code",
   "execution_count": 60,
   "metadata": {},
   "outputs": [
    {
     "data": {
      "text/plain": [
       "6     84272\n",
       "17    56410\n",
       "0       799\n",
       "Name: protocol, dtype: int64"
      ]
     },
     "execution_count": 60,
     "metadata": {},
     "output_type": "execute_result"
    }
   ],
   "source": [
    "df['protocol'].value_counts()"
   ]
  },
  {
   "cell_type": "code",
   "execution_count": 61,
   "metadata": {},
   "outputs": [
    {
     "data": {
      "text/plain": [
       "Non-Tor    21516\n",
       "NonVPN     17630\n",
       "VPN        17199\n",
       "Tor           65\n",
       "Name: label, dtype: int64"
      ]
     },
     "execution_count": 61,
     "metadata": {},
     "output_type": "execute_result"
    }
   ],
   "source": [
    "df[df['protocol'] == 17].loc[:, 'label'].value_counts()"
   ]
  },
  {
   "cell_type": "code",
   "execution_count": 62,
   "metadata": {},
   "outputs": [
    {
     "data": {
      "text/plain": [
       "Non-Tor    71713\n",
       "VPN         5664\n",
       "NonVPN      5603\n",
       "Tor         1292\n",
       "Name: label, dtype: int64"
      ]
     },
     "execution_count": 62,
     "metadata": {},
     "output_type": "execute_result"
    }
   ],
   "source": [
    "df[df['protocol'] == 6].loc[:, 'label'].value_counts()"
   ]
  },
  {
   "cell_type": "code",
   "execution_count": 63,
   "metadata": {},
   "outputs": [
    {
     "data": {
      "text/plain": [
       "NonVPN     628\n",
       "Non-Tor     80\n",
       "VPN         56\n",
       "Tor         35\n",
       "Name: label, dtype: int64"
      ]
     },
     "execution_count": 63,
     "metadata": {},
     "output_type": "execute_result"
    }
   ],
   "source": [
    "df[df['protocol'] == 0].loc[:, 'label'].value_counts()"
   ]
  },
  {
   "cell_type": "markdown",
   "metadata": {},
   "source": [
    "## Timestamp"
   ]
  },
  {
   "cell_type": "code",
   "execution_count": 69,
   "metadata": {},
   "outputs": [
    {
     "data": {
      "text/plain": [
       "0         24/07/2015 04:09:48 PM\n",
       "1         24/07/2015 04:09:48 PM\n",
       "2         24/07/2015 04:09:48 PM\n",
       "3         24/07/2015 04:09:48 PM\n",
       "4         24/07/2015 04:09:45 PM\n",
       "                   ...          \n",
       "141525    22/05/2015 01:55:03 PM\n",
       "141526    22/05/2015 02:09:05 PM\n",
       "141527    22/05/2015 02:19:31 PM\n",
       "141528    22/05/2015 02:29:55 PM\n",
       "141529    22/05/2015 02:31:23 PM\n",
       "Name: timestamp, Length: 141481, dtype: object"
      ]
     },
     "execution_count": 69,
     "metadata": {},
     "output_type": "execute_result"
    }
   ],
   "source": [
    "df['timestamp']"
   ]
  },
  {
   "cell_type": "markdown",
   "metadata": {},
   "source": [
    "## Flag Count"
   ]
  },
  {
   "cell_type": "code",
   "execution_count": 114,
   "metadata": {},
   "outputs": [],
   "source": [
    "flag_count_df = df.loc[:, other_columns[other_columns.str.endswith('_flag_count')]]"
   ]
  },
  {
   "cell_type": "code",
   "execution_count": 115,
   "metadata": {},
   "outputs": [
    {
     "name": "stdout",
     "output_type": "stream",
     "text": [
      "0    81367\n",
      "1    55780\n",
      "2     4334\n",
      "Name: fin_flag_count, dtype: int64\n",
      "-------\n",
      "0    108809\n",
      "2     32580\n",
      "3        80\n",
      "1         9\n",
      "7         2\n",
      "4         1\n",
      "Name: syn_flag_count, dtype: int64\n",
      "-------\n",
      "0     138197\n",
      "1       1888\n",
      "2        832\n",
      "3        504\n",
      "4         34\n",
      "6         10\n",
      "5          4\n",
      "10         3\n",
      "8          3\n",
      "7          2\n",
      "9          2\n",
      "16         1\n",
      "71         1\n",
      "Name: rst_flag_count, dtype: int64\n",
      "-------\n",
      "0       94540\n",
      "1       11161\n",
      "2        7083\n",
      "4        3114\n",
      "3        3060\n",
      "        ...  \n",
      "5174        1\n",
      "5598        1\n",
      "5464        1\n",
      "4786        1\n",
      "331         1\n",
      "Name: psh_flag_count, Length: 1605, dtype: int64\n",
      "-------\n",
      "0        58336\n",
      "2        27787\n",
      "3         8290\n",
      "5         5706\n",
      "4         5393\n",
      "         ...  \n",
      "7736         1\n",
      "548          1\n",
      "7900         1\n",
      "7120         1\n",
      "37615        1\n",
      "Name: ack_flag_count, Length: 2489, dtype: int64\n",
      "-------\n",
      "0    141481\n",
      "Name: urg_flag_count, dtype: int64\n",
      "-------\n",
      "0    141481\n",
      "Name: cwe_flag_count, dtype: int64\n",
      "-------\n",
      "0    141481\n",
      "Name: ece_flag_count, dtype: int64\n",
      "-------\n"
     ]
    }
   ],
   "source": [
    "for column in flag_count_df.columns:\n",
    "    print(flag_count_df[column].value_counts())\n",
    "    print('-------')"
   ]
  },
  {
   "cell_type": "code",
   "execution_count": 167,
   "metadata": {},
   "outputs": [
    {
     "data": {
      "image/png": "[encoded data removed]",
      "text/plain": [
       "<Figure size 1728x360 with 5 Axes>"
      ]
     },
     "metadata": {
      "needs_background": "light"
     },
     "output_type": "display_data"
    }
   ],
   "source": [
    "plota_boxplot_prefixo('flag_count', ['fin', 'syn', 'rst', 'psh', 'ack'])"
   ]
  },
  {
   "cell_type": "markdown",
   "metadata": {},
   "source": [
    "## Down/up Ratio"
   ]
  },
  {
   "cell_type": "code",
   "execution_count": 99,
   "metadata": {},
   "outputs": [
    {
     "data": {
      "text/plain": [
       "<AxesSubplot:xlabel='label', ylabel='down/up_ratio'>"
      ]
     },
     "execution_count": 99,
     "metadata": {},
     "output_type": "execute_result"
    },
    {
     "data": {
      "image/png": "[encoded data removed]",
      "text/plain": [
       "<Figure size 432x288 with 1 Axes>"
      ]
     },
     "metadata": {
      "needs_background": "light"
     },
     "output_type": "display_data"
    }
   ],
   "source": [
    "sns.boxplot(x='label', y='down/up_ratio', data=df)"
   ]
  },
  {
   "cell_type": "markdown",
   "metadata": {},
   "source": [
    "## Average Packet Size"
   ]
  },
  {
   "cell_type": "code",
   "execution_count": 100,
   "metadata": {},
   "outputs": [
    {
     "data": {
      "text/plain": [
       "<AxesSubplot:xlabel='label', ylabel='average_packet_size'>"
      ]
     },
     "execution_count": 100,
     "metadata": {},
     "output_type": "execute_result"
    },
    {
     "data": {
      "image/png": "[encoded data removed]",
      "text/plain": [
       "<Figure size 432x288 with 1 Axes>"
      ]
     },
     "metadata": {
      "needs_background": "light"
     },
     "output_type": "display_data"
    }
   ],
   "source": [
    "sns.boxplot(x='label', y='average_packet_size', data=df)"
   ]
  },
  {
   "cell_type": "markdown",
   "metadata": {},
   "source": [
    "## Labels"
   ]
  },
  {
   "cell_type": "code",
   "execution_count": 101,
   "metadata": {},
   "outputs": [
    {
     "data": {
      "text/plain": [
       "Non-Tor    93309\n",
       "NonVPN     23861\n",
       "VPN        22919\n",
       "Tor         1392\n",
       "Name: label, dtype: int64"
      ]
     },
     "execution_count": 101,
     "metadata": {},
     "output_type": "execute_result"
    }
   ],
   "source": [
    "df['label'].value_counts()"
   ]
  },
  {
   "cell_type": "code",
   "execution_count": 102,
   "metadata": {},
   "outputs": [
    {
     "data": {
      "text/plain": [
       "P2P                48520\n",
       "Browsing           32808\n",
       "Audio-Streaming    16580\n",
       "Chat               11473\n",
       "File-Transfer      11089\n",
       "Video-Streaming     9467\n",
       "Email               6143\n",
       "VOIP                3566\n",
       "AUDIO-STREAMING     1470\n",
       "Video-streaming      281\n",
       "File-transfer         84\n",
       "Name: label.1, dtype: int64"
      ]
     },
     "execution_count": 102,
     "metadata": {},
     "output_type": "execute_result"
    }
   ],
   "source": [
    "df['label.1'].value_counts()"
   ]
  },
  {
   "cell_type": "markdown",
   "metadata": {},
   "source": [
    "# Respostas das perguntas"
   ]
  },
  {
   "cell_type": "markdown",
   "metadata": {},
   "source": [
    "### 1. Que tipo de dados você tem, majoritariamente (atributos numéricos, textuais)?\n",
    "Numéricos"
   ]
  },
  {
   "cell_type": "code",
   "execution_count": 164,
   "metadata": {},
   "outputs": [
    {
     "data": {
      "text/plain": [
       "int64      55\n",
       "float64    24\n",
       "object      6\n",
       "dtype: int64"
      ]
     },
     "execution_count": 164,
     "metadata": {},
     "output_type": "execute_result"
    }
   ],
   "source": [
    "df.dtypes.value_counts()"
   ]
  },
  {
   "cell_type": "code",
   "execution_count": 8,
   "metadata": {},
   "outputs": [
    {
     "data": {
      "text/plain": [
       "Index(['Flow ID', 'Src IP', 'Dst IP', 'Timestamp', 'Label', 'Label.1'], dtype='object')"
      ]
     },
     "execution_count": 8,
     "metadata": {},
     "output_type": "execute_result"
    }
   ],
   "source": [
    "df.select_dtypes(include = 'object').columns"
   ]
  },
  {
   "cell_type": "markdown",
   "metadata": {},
   "source": [
    "### 2. Qual seu objetivo com esse dataset?\n",
    "A partir de amostras de fluxos de uma rede,\n",
    "conseguir classificar esse fluxo como Tor, Não-Tor, VPN ou Não-VPN"
   ]
  },
  {
   "cell_type": "markdown",
   "metadata": {},
   "source": [
    "### 3. Seu dataset é rotulado de que maneira?"
   ]
  },
  {
   "cell_type": "code",
   "execution_count": 165,
   "metadata": {},
   "outputs": [
    {
     "name": "stdout",
     "output_type": "stream",
     "text": [
      "Non-Tor, NonVPN, Tor, VPN\n"
     ]
    }
   ],
   "source": [
    "print(', '.join(df['label'].unique()))"
   ]
  },
  {
   "cell_type": "markdown",
   "metadata": {},
   "source": [
    "### 4. Como é a distribuição dos dados do dataset?"
   ]
  },
  {
   "cell_type": "code",
   "execution_count": 166,
   "metadata": {
    "scrolled": true
   },
   "outputs": [
    {
     "name": "stdout",
     "output_type": "stream",
     "text": [
      "         frequência  porcentagem\n",
      "Non-Tor       93309     0.659516\n",
      "NonVPN        23861     0.168652\n",
      "VPN           22919     0.161993\n",
      "Tor            1392     0.009839\n"
     ]
    }
   ],
   "source": [
    "print(pd.DataFrame({\n",
    "    'frequência': df['label'].value_counts(), \n",
    "    'porcentagem': df['label'].value_counts(normalize=True)\n",
    "}))"
   ]
  },
  {
   "cell_type": "markdown",
   "metadata": {},
   "source": [
    "### 5. Quais colunas/atributos você julga ser interessante manter e remover? Por quê?\n",
    "\n",
    "Para escolher quais colunas manter, foram analisados se os dados são numéricos. Se sim, estes foram plotados para ver quais influenciam na classificação do fluxo.\n",
    "\n",
    "Então, até o momento, as colunas a serem mantidas são:\n",
    "\n",
    "\n",
    "E as colunas a serem retiradas são\n",
    "\n",
    "- **Mantém**\n",
    "\n",
    "        'bwd_packet_length_mean', 'bwd_packet_length_std',\n",
    "        'bwd_packet_length_min', 'bwd_packet_length_max',\n",
    "        'fwd_packet_length_mean', 'fwd_packet_length_std',\n",
    "        'fwd_packet_length_min', 'fwd_packet_length_max',\n",
    "        'bwd_iat_max', 'bwd_iat_total',\n",
    "        'fwd_iat_mean', 'fwd_iat_std',\n",
    "        'fwd_iat_max', 'fwd_iat_total',\n",
    "        'fwd_psh_flags', 'bwd_header_length',\n",
    "        'fwd_header_length', 'bwd_segment_size_avg',\n",
    "        'fwd_segment_size_avg', 'bwd_packet/bulk_avg',\n",
    "        'bwd_init_win_bytes', 'fwd_init_win_bytes',\n",
    "        'fwd_act_data_pkts', 'idle_mean',\n",
    "        'idle_min', 'idle_max',\n",
    "        'packet_length_mean', 'packet_length_std',\n",
    "        'packet_length_min', 'packet_length_max',\n",
    "        'flow_duration', 'flow_iat_mean',\n",
    "        'flow_iat_std', 'flow_iat_max',\n",
    "        'subflow_fwd_packets', 'subflow_fwd_bytes',\n",
    "        'subflow_bwd_bytes', 'total_fwd_packet',\n",
    "        'total_bwd_packets', 'protocol',\n",
    "        'fin_flag_count', 'syn_flag_count',\n",
    "        'psh_flag_count', 'ack_flag_count',\n",
    "        'average_packet_size', 'label'\n",
    "\n",
    "- **Retira**\n",
    "\n",
    "        'bwd_iat_mean', 'bwd_iat_std',\n",
    "        'bwd_iat_min', 'fwd_iat_min',\n",
    "        'bwd_psh_flags', 'bwd_urg_flags',\n",
    "        'fwd_urg_flags', 'bwd_packets/s',\n",
    "        'fwd_packets/s', 'bwd_bytes/bulk_avg',\n",
    "        'fwd_bytes/bulk_avg', 'fwd_packet/bulk_avg',\n",
    "        'bwd_bulk_rate_avg', 'fwd_bulk_rate_avg',\n",
    "        'fwd_seg_size_min', 'active_mean',\n",
    "        'active_std', 'active_min',\n",
    "        'active_max', 'idle_std',\n",
    "        'packet_length_variance', 'flow_id',\n",
    "        'flow_bytes/s', 'flow_packets/s',\n",
    "        'flow_iat_min', 'subflow_bwd_packets',\n",
    "        'total_length_of_fwd_packet', 'total_length_of_bwd_packet',\n",
    "        'src_ip', 'src_port',\n",
    "        'dst_ip', 'dst_port',\n",
    "        'timestamp', 'rst_flag_count',\n",
    "        'urg_flag_count', 'cwe_flag_count',\n",
    "        'ece_flag_count', 'down/up_ratio',\n",
    "        'label.1'"
   ]
  },
  {
   "cell_type": "markdown",
   "metadata": {},
   "source": [
    "Então, até o momento, as colunas a serem mantidas são:"
   ]
  },
  {
   "cell_type": "code",
   "execution_count": 11,
   "metadata": {},
   "outputs": [],
   "source": [
    "mantem = [\n",
    "    'bwd_packet_length_mean',\n",
    "    'bwd_packet_length_std',\n",
    "    'bwd_packet_length_min',\n",
    "    'bwd_packet_length_max',\n",
    "    'fwd_packet_length_mean',\n",
    "    'fwd_packet_length_std',\n",
    "    'fwd_packet_length_min',\n",
    "    'fwd_packet_length_max',\n",
    "    'bwd_iat_max',\n",
    "    'bwd_iat_total',\n",
    "    'fwd_iat_mean',\n",
    "    'fwd_iat_std',\n",
    "    'fwd_iat_max',\n",
    "    'fwd_iat_total',\n",
    "    'fwd_psh_flags',\n",
    "    'bwd_header_length',\n",
    "    'fwd_header_length',\n",
    "    'bwd_segment_size_avg',\n",
    "    'fwd_segment_size_avg',\n",
    "    'bwd_packet/bulk_avg',\n",
    "    'bwd_init_win_bytes',\n",
    "    'fwd_init_win_bytes',\n",
    "    'fwd_act_data_pkts',\n",
    "    'idle_mean',\n",
    "    'idle_min',\n",
    "    'idle_max',\n",
    "    'packet_length_mean',\n",
    "    'packet_length_std',\n",
    "    'packet_length_min',\n",
    "    'packet_length_max',\n",
    "    'flow_duration',\n",
    "    'flow_iat_mean',\n",
    "    'flow_iat_std',\n",
    "    'flow_iat_max',\n",
    "    'subflow_fwd_packets',\n",
    "    'subflow_fwd_bytes',\n",
    "    'subflow_bwd_bytes',\n",
    "    'total_fwd_packet',\n",
    "    'total_bwd_packets',\n",
    "    'protocol',\n",
    "    'fin_flag_count',\n",
    "    'syn_flag_count',\n",
    "    'psh_flag_count',\n",
    "    'ack_flag_count',\n",
    "    'average_packet_size',\n",
    "    'label'\n",
    "]"
   ]
  },
  {
   "cell_type": "code",
   "execution_count": 12,
   "metadata": {},
   "outputs": [
    {
     "data": {
      "text/plain": [
       "46"
      ]
     },
     "execution_count": 12,
     "metadata": {},
     "output_type": "execute_result"
    }
   ],
   "source": [
    "len(mantem)"
   ]
  },
  {
   "cell_type": "markdown",
   "metadata": {},
   "source": [
    "E as colunas a serem retiradas são:"
   ]
  },
  {
   "cell_type": "code",
   "execution_count": 3,
   "metadata": {},
   "outputs": [],
   "source": [
    "retira = [\n",
    "    'bwd_iat_mean',\n",
    "    'bwd_iat_std',\n",
    "    'bwd_iat_min',\n",
    "    'fwd_iat_min',\n",
    "    'bwd_psh_flags',\n",
    "    'bwd_urg_flags',\n",
    "    'fwd_urg_flags',\n",
    "    'bwd_packets/s',\n",
    "    'fwd_packets/s',\n",
    "    'bwd_bytes/bulk_avg',\n",
    "    'fwd_bytes/bulk_avg',\n",
    "    'fwd_packet/bulk_avg',\n",
    "    'bwd_bulk_rate_avg',\n",
    "    'fwd_bulk_rate_avg',\n",
    "    'fwd_seg_size_min',\n",
    "    'active_mean',\n",
    "    'active_std',\n",
    "    'active_min',\n",
    "    'active_max',\n",
    "    'idle_std',\n",
    "    'packet_length_variance',\n",
    "    'flow_id',\n",
    "    'flow_bytes/s',\n",
    "    'flow_packets/s',\n",
    "    'flow_iat_min',\n",
    "    'subflow_bwd_packets',\n",
    "    'total_length_of_fwd_packet',\n",
    "    'total_length_of_bwd_packet',\n",
    "    'src_ip',\n",
    "    'src_port',\n",
    "    'dst_ip',\n",
    "    'dst_port',\n",
    "    'timestamp',\n",
    "    'rst_flag_count',\n",
    "    'urg_flag_count',\n",
    "    'cwe_flag_count',\n",
    "    'ece_flag_count',\n",
    "    'down/up_ratio',\n",
    "    'label.1'\n",
    "]"
   ]
  },
  {
   "cell_type": "code",
   "execution_count": 4,
   "metadata": {},
   "outputs": [
    {
     "data": {
      "text/plain": [
       "39"
      ]
     },
     "execution_count": 4,
     "metadata": {},
     "output_type": "execute_result"
    }
   ],
   "source": [
    "len(retira)"
   ]
  },
  {
   "cell_type": "code",
   "execution_count": 1,
   "metadata": {},
   "outputs": [
    {
     "ename": "NameError",
     "evalue": "name 'df' is not defined",
     "output_type": "error",
     "traceback": [
      "\u001b[0;31m---------------------------------------------------------------------------\u001b[0m",
      "\u001b[0;31mNameError\u001b[0m                                 Traceback (most recent call last)",
      "\u001b[0;32m<ipython-input-1-44a03f4b1eec>\u001b[0m in \u001b[0;36m<module>\u001b[0;34m\u001b[0m\n\u001b[0;32m----> 1\u001b[0;31m \u001b[0mset\u001b[0m\u001b[0;34m(\u001b[0m\u001b[0mdf\u001b[0m\u001b[0;34m.\u001b[0m\u001b[0mcolumns\u001b[0m\u001b[0;34m)\u001b[0m \u001b[0;34m-\u001b[0m \u001b[0mset\u001b[0m\u001b[0;34m(\u001b[0m\u001b[0mmantem\u001b[0m\u001b[0;34m)\u001b[0m \u001b[0;34m-\u001b[0m \u001b[0mset\u001b[0m\u001b[0;34m(\u001b[0m\u001b[0mretira\u001b[0m\u001b[0;34m)\u001b[0m\u001b[0;34m\u001b[0m\u001b[0;34m\u001b[0m\u001b[0m\n\u001b[0m",
      "\u001b[0;31mNameError\u001b[0m: name 'df' is not defined"
     ]
    }
   ],
   "source": [
    "set(df.columns) - set(mantem) - set(retira)"
   ]
  },
  {
   "cell_type": "code",
   "execution_count": null,
   "metadata": {},
   "outputs": [],
   "source": []
  }
 ],
 "metadata": {
  "kernelspec": {
   "display_name": "Python 3",
   "language": "python",
   "name": "python3"
  },
  "language_info": {
   "codemirror_mode": {
    "name": "ipython",
    "version": 3
   },
   "file_extension": ".py",
   "mimetype": "text/x-python",
   "name": "python",
   "nbconvert_exporter": "python",
   "pygments_lexer": "ipython3",
   "version": "3.6.9"
  }
 },
 "nbformat": 4,
 "nbformat_minor": 4
}
